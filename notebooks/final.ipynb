{
 "cells": [
  {
   "cell_type": "markdown",
   "metadata": {},
   "source": [
    "# Investigating Car Crashes in Chicago, IL"
   ]
  },
  {
   "cell_type": "markdown",
   "metadata": {},
   "source": [
    "## Introduction"
   ]
  },
  {
   "cell_type": "markdown",
   "metadata": {},
   "source": [
    "##### The Task"
   ]
  },
  {
   "cell_type": "markdown",
   "metadata": {},
   "source": [
    "The City of Chicago has tasked Halper Consulting with identifying root factors that contribute to a variety of car crashes. "
   ]
  },
  {
   "cell_type": "markdown",
   "metadata": {},
   "source": [
    "#### The Data"
   ]
  },
  {
   "cell_type": "markdown",
   "metadata": {},
   "source": [
    "The City of Chicago has provided a dataset of all car crashes within city limits from 2015 - Present\n",
    "The Dataset includes:\n",
    "- 774,000+ Car Crashes\n",
    "- 1,580,000 + Vehicles involved in these crashes"
   ]
  },
  {
   "cell_type": "markdown",
   "metadata": {},
   "source": [
    "#### The Approach"
   ]
  },
  {
   "cell_type": "markdown",
   "metadata": {},
   "source": [
    "There are three car crash category causes of interest:\n",
    "Those Involving:\n",
    "- Traffic Violations\n",
    "- Environment Factors\n",
    "- Distracted Driving\n",
    "\n",
    "We build out three models for each car crash type and treat it each as seperate binary classification problem\n",
    "- Random Forest\n",
    "- XGBoost\n",
    "- Stacking Classifier with the previous two models and utilizing logistic regression as final estimator\n",
    "Leveraging the intepretability of the models we use Feature Importances to tease out the most important contributing factors to each crash type"
   ]
  },
  {
   "cell_type": "markdown",
   "metadata": {},
   "source": [
    "## Data Prep and Cleaning"
   ]
  },
  {
   "cell_type": "markdown",
   "metadata": {},
   "source": [
    "###### Importing Necessary Modules for Data Manupulation Prep"
   ]
  },
  {
   "cell_type": "code",
   "execution_count": 76,
   "metadata": {},
   "outputs": [],
   "source": [
    "import pandas as pd\n",
    "import seaborn as sns\n",
    "import matplotlib.pyplot as plt\n"
   ]
  },
  {
   "cell_type": "markdown",
   "metadata": {},
   "source": [
    "###### Importing Datasets"
   ]
  },
  {
   "cell_type": "code",
   "execution_count": 77,
   "metadata": {},
   "outputs": [
    {
     "name": "stderr",
     "output_type": "stream",
     "text": [
      "C:\\Users\\jhalp\\anaconda3\\envs\\learn-env\\lib\\site-packages\\IPython\\core\\interactiveshell.py:3145: DtypeWarning: Columns (19,21,40,41,42,44,48,49,50,53,55,58,59,61) have mixed types.Specify dtype option on import or set low_memory=False.\n",
      "  has_raised = await self.run_ast_nodes(code_ast.body, cell_name,\n"
     ]
    }
   ],
   "source": [
    "#Importing Both Datasets\n",
    "file_path = \"C:/Users/jhalp/documents/Phase-4-Project/zippedData/Crashes.csv\"\n",
    "df = pd.read_csv(file_path)\n",
    "file_path_2 = \"C:/Users/jhalp/documents/Phase-4-Project/zippedData/Vehicles.csv\"\n",
    "df_2 = pd.read_csv(file_path_2)"
   ]
  },
  {
   "cell_type": "markdown",
   "metadata": {},
   "source": [
    "###### Investigating Dataset 2"
   ]
  },
  {
   "cell_type": "code",
   "execution_count": 78,
   "metadata": {},
   "outputs": [
    {
     "data": {
      "text/html": [
       "<div>\n",
       "<style scoped>\n",
       "    .dataframe tbody tr th:only-of-type {\n",
       "        vertical-align: middle;\n",
       "    }\n",
       "\n",
       "    .dataframe tbody tr th {\n",
       "        vertical-align: top;\n",
       "    }\n",
       "\n",
       "    .dataframe thead th {\n",
       "        text-align: right;\n",
       "    }\n",
       "</style>\n",
       "<table border=\"1\" class=\"dataframe\">\n",
       "  <thead>\n",
       "    <tr style=\"text-align: right;\">\n",
       "      <th></th>\n",
       "      <th>POSTED_SPEED_LIMIT</th>\n",
       "      <th>LANE_CNT</th>\n",
       "      <th>STREET_NO</th>\n",
       "      <th>BEAT_OF_OCCURRENCE</th>\n",
       "      <th>NUM_UNITS</th>\n",
       "      <th>INJURIES_TOTAL</th>\n",
       "      <th>INJURIES_FATAL</th>\n",
       "      <th>INJURIES_INCAPACITATING</th>\n",
       "      <th>INJURIES_NON_INCAPACITATING</th>\n",
       "      <th>INJURIES_REPORTED_NOT_EVIDENT</th>\n",
       "      <th>INJURIES_NO_INDICATION</th>\n",
       "      <th>INJURIES_UNKNOWN</th>\n",
       "      <th>CRASH_HOUR</th>\n",
       "      <th>CRASH_DAY_OF_WEEK</th>\n",
       "      <th>CRASH_MONTH</th>\n",
       "      <th>LATITUDE</th>\n",
       "      <th>LONGITUDE</th>\n",
       "    </tr>\n",
       "  </thead>\n",
       "  <tbody>\n",
       "    <tr>\n",
       "      <th>count</th>\n",
       "      <td>772994.000000</td>\n",
       "      <td>1.990060e+05</td>\n",
       "      <td>772994.000000</td>\n",
       "      <td>772989.000000</td>\n",
       "      <td>772994.000000</td>\n",
       "      <td>771313.000000</td>\n",
       "      <td>771313.000000</td>\n",
       "      <td>771313.000000</td>\n",
       "      <td>771313.000000</td>\n",
       "      <td>771313.000000</td>\n",
       "      <td>771313.000000</td>\n",
       "      <td>771313.0</td>\n",
       "      <td>772994.000000</td>\n",
       "      <td>772994.000000</td>\n",
       "      <td>772994.000000</td>\n",
       "      <td>767840.000000</td>\n",
       "      <td>767840.000000</td>\n",
       "    </tr>\n",
       "    <tr>\n",
       "      <th>mean</th>\n",
       "      <td>28.394141</td>\n",
       "      <td>1.333032e+01</td>\n",
       "      <td>3685.655292</td>\n",
       "      <td>1242.302964</td>\n",
       "      <td>2.034736</td>\n",
       "      <td>0.188358</td>\n",
       "      <td>0.001189</td>\n",
       "      <td>0.020115</td>\n",
       "      <td>0.106547</td>\n",
       "      <td>0.060507</td>\n",
       "      <td>2.005094</td>\n",
       "      <td>0.0</td>\n",
       "      <td>13.207976</td>\n",
       "      <td>4.124048</td>\n",
       "      <td>6.668248</td>\n",
       "      <td>41.854835</td>\n",
       "      <td>-87.673573</td>\n",
       "    </tr>\n",
       "    <tr>\n",
       "      <th>std</th>\n",
       "      <td>6.197118</td>\n",
       "      <td>2.961623e+03</td>\n",
       "      <td>2888.827546</td>\n",
       "      <td>705.415878</td>\n",
       "      <td>0.452379</td>\n",
       "      <td>0.563826</td>\n",
       "      <td>0.037383</td>\n",
       "      <td>0.166159</td>\n",
       "      <td>0.420903</td>\n",
       "      <td>0.316451</td>\n",
       "      <td>1.159623</td>\n",
       "      <td>0.0</td>\n",
       "      <td>5.564347</td>\n",
       "      <td>1.980171</td>\n",
       "      <td>3.365118</td>\n",
       "      <td>0.331789</td>\n",
       "      <td>0.673790</td>\n",
       "    </tr>\n",
       "    <tr>\n",
       "      <th>min</th>\n",
       "      <td>0.000000</td>\n",
       "      <td>0.000000e+00</td>\n",
       "      <td>0.000000</td>\n",
       "      <td>111.000000</td>\n",
       "      <td>1.000000</td>\n",
       "      <td>0.000000</td>\n",
       "      <td>0.000000</td>\n",
       "      <td>0.000000</td>\n",
       "      <td>0.000000</td>\n",
       "      <td>0.000000</td>\n",
       "      <td>0.000000</td>\n",
       "      <td>0.0</td>\n",
       "      <td>0.000000</td>\n",
       "      <td>1.000000</td>\n",
       "      <td>1.000000</td>\n",
       "      <td>0.000000</td>\n",
       "      <td>-87.936193</td>\n",
       "    </tr>\n",
       "    <tr>\n",
       "      <th>25%</th>\n",
       "      <td>30.000000</td>\n",
       "      <td>2.000000e+00</td>\n",
       "      <td>1245.000000</td>\n",
       "      <td>714.000000</td>\n",
       "      <td>2.000000</td>\n",
       "      <td>0.000000</td>\n",
       "      <td>0.000000</td>\n",
       "      <td>0.000000</td>\n",
       "      <td>0.000000</td>\n",
       "      <td>0.000000</td>\n",
       "      <td>1.000000</td>\n",
       "      <td>0.0</td>\n",
       "      <td>9.000000</td>\n",
       "      <td>2.000000</td>\n",
       "      <td>4.000000</td>\n",
       "      <td>41.782341</td>\n",
       "      <td>-87.721640</td>\n",
       "    </tr>\n",
       "    <tr>\n",
       "      <th>50%</th>\n",
       "      <td>30.000000</td>\n",
       "      <td>2.000000e+00</td>\n",
       "      <td>3200.000000</td>\n",
       "      <td>1211.000000</td>\n",
       "      <td>2.000000</td>\n",
       "      <td>0.000000</td>\n",
       "      <td>0.000000</td>\n",
       "      <td>0.000000</td>\n",
       "      <td>0.000000</td>\n",
       "      <td>0.000000</td>\n",
       "      <td>2.000000</td>\n",
       "      <td>0.0</td>\n",
       "      <td>14.000000</td>\n",
       "      <td>4.000000</td>\n",
       "      <td>7.000000</td>\n",
       "      <td>41.874655</td>\n",
       "      <td>-87.674002</td>\n",
       "    </tr>\n",
       "    <tr>\n",
       "      <th>75%</th>\n",
       "      <td>30.000000</td>\n",
       "      <td>4.000000e+00</td>\n",
       "      <td>5600.000000</td>\n",
       "      <td>1822.000000</td>\n",
       "      <td>2.000000</td>\n",
       "      <td>0.000000</td>\n",
       "      <td>0.000000</td>\n",
       "      <td>0.000000</td>\n",
       "      <td>0.000000</td>\n",
       "      <td>0.000000</td>\n",
       "      <td>2.000000</td>\n",
       "      <td>0.0</td>\n",
       "      <td>17.000000</td>\n",
       "      <td>6.000000</td>\n",
       "      <td>10.000000</td>\n",
       "      <td>41.924270</td>\n",
       "      <td>-87.633243</td>\n",
       "    </tr>\n",
       "    <tr>\n",
       "      <th>max</th>\n",
       "      <td>99.000000</td>\n",
       "      <td>1.191625e+06</td>\n",
       "      <td>451100.000000</td>\n",
       "      <td>6100.000000</td>\n",
       "      <td>18.000000</td>\n",
       "      <td>21.000000</td>\n",
       "      <td>4.000000</td>\n",
       "      <td>10.000000</td>\n",
       "      <td>21.000000</td>\n",
       "      <td>15.000000</td>\n",
       "      <td>61.000000</td>\n",
       "      <td>0.0</td>\n",
       "      <td>23.000000</td>\n",
       "      <td>7.000000</td>\n",
       "      <td>12.000000</td>\n",
       "      <td>42.022780</td>\n",
       "      <td>0.000000</td>\n",
       "    </tr>\n",
       "  </tbody>\n",
       "</table>\n",
       "</div>"
      ],
      "text/plain": [
       "       POSTED_SPEED_LIMIT      LANE_CNT      STREET_NO  BEAT_OF_OCCURRENCE  \\\n",
       "count       772994.000000  1.990060e+05  772994.000000       772989.000000   \n",
       "mean            28.394141  1.333032e+01    3685.655292         1242.302964   \n",
       "std              6.197118  2.961623e+03    2888.827546          705.415878   \n",
       "min              0.000000  0.000000e+00       0.000000          111.000000   \n",
       "25%             30.000000  2.000000e+00    1245.000000          714.000000   \n",
       "50%             30.000000  2.000000e+00    3200.000000         1211.000000   \n",
       "75%             30.000000  4.000000e+00    5600.000000         1822.000000   \n",
       "max             99.000000  1.191625e+06  451100.000000         6100.000000   \n",
       "\n",
       "           NUM_UNITS  INJURIES_TOTAL  INJURIES_FATAL  INJURIES_INCAPACITATING  \\\n",
       "count  772994.000000   771313.000000   771313.000000            771313.000000   \n",
       "mean        2.034736        0.188358        0.001189                 0.020115   \n",
       "std         0.452379        0.563826        0.037383                 0.166159   \n",
       "min         1.000000        0.000000        0.000000                 0.000000   \n",
       "25%         2.000000        0.000000        0.000000                 0.000000   \n",
       "50%         2.000000        0.000000        0.000000                 0.000000   \n",
       "75%         2.000000        0.000000        0.000000                 0.000000   \n",
       "max        18.000000       21.000000        4.000000                10.000000   \n",
       "\n",
       "       INJURIES_NON_INCAPACITATING  INJURIES_REPORTED_NOT_EVIDENT  \\\n",
       "count                771313.000000                  771313.000000   \n",
       "mean                      0.106547                       0.060507   \n",
       "std                       0.420903                       0.316451   \n",
       "min                       0.000000                       0.000000   \n",
       "25%                       0.000000                       0.000000   \n",
       "50%                       0.000000                       0.000000   \n",
       "75%                       0.000000                       0.000000   \n",
       "max                      21.000000                      15.000000   \n",
       "\n",
       "       INJURIES_NO_INDICATION  INJURIES_UNKNOWN     CRASH_HOUR  \\\n",
       "count           771313.000000          771313.0  772994.000000   \n",
       "mean                 2.005094               0.0      13.207976   \n",
       "std                  1.159623               0.0       5.564347   \n",
       "min                  0.000000               0.0       0.000000   \n",
       "25%                  1.000000               0.0       9.000000   \n",
       "50%                  2.000000               0.0      14.000000   \n",
       "75%                  2.000000               0.0      17.000000   \n",
       "max                 61.000000               0.0      23.000000   \n",
       "\n",
       "       CRASH_DAY_OF_WEEK    CRASH_MONTH       LATITUDE      LONGITUDE  \n",
       "count      772994.000000  772994.000000  767840.000000  767840.000000  \n",
       "mean            4.124048       6.668248      41.854835     -87.673573  \n",
       "std             1.980171       3.365118       0.331789       0.673790  \n",
       "min             1.000000       1.000000       0.000000     -87.936193  \n",
       "25%             2.000000       4.000000      41.782341     -87.721640  \n",
       "50%             4.000000       7.000000      41.874655     -87.674002  \n",
       "75%             6.000000      10.000000      41.924270     -87.633243  \n",
       "max             7.000000      12.000000      42.022780       0.000000  "
      ]
     },
     "execution_count": 78,
     "metadata": {},
     "output_type": "execute_result"
    }
   ],
   "source": [
    "df.describe()"
   ]
  },
  {
   "cell_type": "code",
   "execution_count": 79,
   "metadata": {},
   "outputs": [
    {
     "name": "stdout",
     "output_type": "stream",
     "text": [
      "<class 'pandas.core.frame.DataFrame'>\n",
      "RangeIndex: 772994 entries, 0 to 772993\n",
      "Data columns (total 49 columns):\n",
      " #   Column                         Non-Null Count   Dtype  \n",
      "---  ------                         --------------   -----  \n",
      " 0   CRASH_RECORD_ID                772994 non-null  object \n",
      " 1   RD_NO                          768604 non-null  object \n",
      " 2   CRASH_DATE_EST_I               58126 non-null   object \n",
      " 3   CRASH_DATE                     772994 non-null  object \n",
      " 4   POSTED_SPEED_LIMIT             772994 non-null  int64  \n",
      " 5   TRAFFIC_CONTROL_DEVICE         772994 non-null  object \n",
      " 6   DEVICE_CONDITION               772994 non-null  object \n",
      " 7   WEATHER_CONDITION              772994 non-null  object \n",
      " 8   LIGHTING_CONDITION             772994 non-null  object \n",
      " 9   FIRST_CRASH_TYPE               772994 non-null  object \n",
      " 10  TRAFFICWAY_TYPE                772994 non-null  object \n",
      " 11  LANE_CNT                       199006 non-null  float64\n",
      " 12  ALIGNMENT                      772994 non-null  object \n",
      " 13  ROADWAY_SURFACE_COND           772994 non-null  object \n",
      " 14  ROAD_DEFECT                    772994 non-null  object \n",
      " 15  REPORT_TYPE                    750649 non-null  object \n",
      " 16  CRASH_TYPE                     772994 non-null  object \n",
      " 17  INTERSECTION_RELATED_I         177114 non-null  object \n",
      " 18  NOT_RIGHT_OF_WAY_I             35846 non-null   object \n",
      " 19  HIT_AND_RUN_I                  241390 non-null  object \n",
      " 20  DAMAGE                         772994 non-null  object \n",
      " 21  DATE_POLICE_NOTIFIED           772994 non-null  object \n",
      " 22  PRIM_CONTRIBUTORY_CAUSE        772994 non-null  object \n",
      " 23  SEC_CONTRIBUTORY_CAUSE         772994 non-null  object \n",
      " 24  STREET_NO                      772994 non-null  int64  \n",
      " 25  STREET_DIRECTION               772990 non-null  object \n",
      " 26  STREET_NAME                    772993 non-null  object \n",
      " 27  BEAT_OF_OCCURRENCE             772989 non-null  float64\n",
      " 28  PHOTOS_TAKEN_I                 9987 non-null    object \n",
      " 29  STATEMENTS_TAKEN_I             16897 non-null   object \n",
      " 30  DOORING_I                      2389 non-null    object \n",
      " 31  WORK_ZONE_I                    4479 non-null    object \n",
      " 32  WORK_ZONE_TYPE                 3486 non-null    object \n",
      " 33  WORKERS_PRESENT_I              1149 non-null    object \n",
      " 34  NUM_UNITS                      772994 non-null  int64  \n",
      " 35  MOST_SEVERE_INJURY             771302 non-null  object \n",
      " 36  INJURIES_TOTAL                 771313 non-null  float64\n",
      " 37  INJURIES_FATAL                 771313 non-null  float64\n",
      " 38  INJURIES_INCAPACITATING        771313 non-null  float64\n",
      " 39  INJURIES_NON_INCAPACITATING    771313 non-null  float64\n",
      " 40  INJURIES_REPORTED_NOT_EVIDENT  771313 non-null  float64\n",
      " 41  INJURIES_NO_INDICATION         771313 non-null  float64\n",
      " 42  INJURIES_UNKNOWN               771313 non-null  float64\n",
      " 43  CRASH_HOUR                     772994 non-null  int64  \n",
      " 44  CRASH_DAY_OF_WEEK              772994 non-null  int64  \n",
      " 45  CRASH_MONTH                    772994 non-null  int64  \n",
      " 46  LATITUDE                       767840 non-null  float64\n",
      " 47  LONGITUDE                      767840 non-null  float64\n",
      " 48  LOCATION                       767840 non-null  object \n",
      "dtypes: float64(11), int64(6), object(32)\n",
      "memory usage: 289.0+ MB\n"
     ]
    }
   ],
   "source": [
    "df.info()"
   ]
  },
  {
   "cell_type": "markdown",
   "metadata": {},
   "source": [
    "###### 48 Total Features: 17 Numeric, 32 Categorical"
   ]
  },
  {
   "cell_type": "markdown",
   "metadata": {},
   "source": [
    "### Target Variable is Primary Cause of the Accident"
   ]
  },
  {
   "cell_type": "code",
   "execution_count": 80,
   "metadata": {},
   "outputs": [
    {
     "data": {
      "text/plain": [
       "UNABLE TO DETERMINE                                                                 299699\n",
       "FAILING TO YIELD RIGHT-OF-WAY                                                        84637\n",
       "FOLLOWING TOO CLOSELY                                                                75892\n",
       "NOT APPLICABLE                                                                       40945\n",
       "IMPROPER OVERTAKING/PASSING                                                          37945\n",
       "FAILING TO REDUCE SPEED TO AVOID CRASH                                               32693\n",
       "IMPROPER BACKING                                                                     30794\n",
       "IMPROPER LANE USAGE                                                                  27910\n",
       "DRIVING SKILLS/KNOWLEDGE/EXPERIENCE                                                  25676\n",
       "IMPROPER TURNING/NO SIGNAL                                                           25647\n",
       "DISREGARDING TRAFFIC SIGNALS                                                         15012\n",
       "WEATHER                                                                              11691\n",
       "OPERATING VEHICLE IN ERRATIC, RECKLESS, CARELESS, NEGLIGENT OR AGGRESSIVE MANNER      9848\n",
       "DISREGARDING STOP SIGN                                                                8426\n",
       "DISTRACTION - FROM INSIDE VEHICLE                                                     5333\n",
       "EQUIPMENT - VEHICLE CONDITION                                                         4845\n",
       "PHYSICAL CONDITION OF DRIVER                                                          4640\n",
       "VISION OBSCURED (SIGNS, TREE LIMBS, BUILDINGS, ETC.)                                  4426\n",
       "DRIVING ON WRONG SIDE/WRONG WAY                                                       4092\n",
       "UNDER THE INFLUENCE OF ALCOHOL/DRUGS (USE WHEN ARREST IS EFFECTED)                    3674\n",
       "DISTRACTION - FROM OUTSIDE VEHICLE                                                    3200\n",
       "EXCEEDING AUTHORIZED SPEED LIMIT                                                      1982\n",
       "ROAD ENGINEERING/SURFACE/MARKING DEFECTS                                              1942\n",
       "ROAD CONSTRUCTION/MAINTENANCE                                                         1685\n",
       "EXCEEDING SAFE SPEED FOR CONDITIONS                                                   1684\n",
       "DISREGARDING OTHER TRAFFIC SIGNS                                                      1662\n",
       "EVASIVE ACTION DUE TO ANIMAL, OBJECT, NONMOTORIST                                     1438\n",
       "CELL PHONE USE OTHER THAN TEXTING                                                     1041\n",
       "DISREGARDING ROAD MARKINGS                                                             953\n",
       "HAD BEEN DRINKING (USE WHEN ARREST IS NOT MADE)                                        803\n",
       "ANIMAL                                                                                 647\n",
       "TURNING RIGHT ON RED                                                                   572\n",
       "DISTRACTION - OTHER ELECTRONIC DEVICE (NAVIGATION DEVICE, DVD PLAYER, ETC.)            365\n",
       "RELATED TO BUS STOP                                                                    355\n",
       "TEXTING                                                                                304\n",
       "DISREGARDING YIELD SIGN                                                                265\n",
       "PASSING STOPPED SCHOOL BUS                                                              91\n",
       "OBSTRUCTED CROSSWALKS                                                                   80\n",
       "BICYCLE ADVANCING LEGALLY ON RED LIGHT                                                  78\n",
       "MOTORCYCLE ADVANCING LEGALLY ON RED LIGHT                                               22\n",
       "Name: PRIM_CONTRIBUTORY_CAUSE, dtype: int64"
      ]
     },
     "execution_count": 80,
     "metadata": {},
     "output_type": "execute_result"
    }
   ],
   "source": [
    "#Looking at the Value Counts for our Target\n",
    "df[\"PRIM_CONTRIBUTORY_CAUSE\"].value_counts()"
   ]
  },
  {
   "cell_type": "markdown",
   "metadata": {},
   "source": [
    "###### Too Many Causes; Let's Consolidate"
   ]
  },
  {
   "cell_type": "code",
   "execution_count": 81,
   "metadata": {},
   "outputs": [],
   "source": [
    "#Initializing Map to Consolidate the Primary Causes\n",
    "cat_map = {\n",
    "    \"Unable to Determine\": [\n",
    "        \"UNABLE TO DETERMINE\",\n",
    "        \"NOT APPLICABLE\"],\n",
    "    \"Traffic Violations\": [\n",
    "        \"FAILING TO YIELD RIGHT-OF-WAY\",\n",
    "        \"FOLLOWING TOO CLOSELY\",\n",
    "        \"IMPROPER OVERTAKING/PASSING\",\n",
    "        \"IMPROPER BACKING\",\n",
    "        \"IMPROPER LANE USAGE\",\n",
    "        \"IMPROPER TURNING/NO SIGNAL\",\n",
    "        \"DISREGARDING TRAFFIC SIGNALS\",\n",
    "        \"DISREGARDING STOP SIGN\",\n",
    "        \"DRIVING ON WRONG SIDE/WRONG WAY\",\n",
    "        \"EXCEEDING AUTHORIZED SPEED LIMIT\",\n",
    "        \"EXCEEDING SAFE SPEED FOR CONDITIONS\",\n",
    "        \"DISREGARDING OTHER TRAFFIC SIGNS\",\n",
    "        \"DISREGARDING ROAD MARKINGS\",\n",
    "        \"DISREGARDING YIELD SIGN\",\n",
    "        \"PASSING STOPPED SCHOOL BUS\",\n",
    "        \"OBSTRUCTED CROSSWALKS\",\n",
    "        \"FAILING TO REDUCE SPEED TO AVOID CRASH\",\n",
    "        \"OPERATING VEHICLE IN ERRATIC, RECKLESS, CARELESS, NEGLIGENT OR AGGRESSIVE MANNER\",\n",
    "        \"EXCEEDING AUTHORIZED SPEED LIMIT\",\n",
    "        \"DISREGARDING OTHER TRAFFIC SIGNS\",\n",
    "        \"DISREGARDING STOP SIGN\",\n",
    "        \"DISREGARDING YIELD SIGN\",\n",
    "        \"PASSING STOPPED SCHOOL BUS\",\n",
    "        \"OBSTRUCTED CROSSWALKS\",\n",
    "        \"TURNING RIGHT ON RED\",\n",
    "        \"BICYCLE ADVANCING LEGALLY ON RED LIGHT\",\n",
    "        \"MOTORCYCLE ADVANCING LEGALLY ON RED LIGHT\"],\n",
    "    \"Distracted Driving\": [\n",
    "        \"DISTRACTION - FROM INSIDE VEHICLE\",\n",
    "        \"DISTRACTION - FROM OUTSIDE VEHICLE\",\n",
    "        \"CELL PHONE USE OTHER THAN TEXTING\",\n",
    "        \"DISTRACTION - OTHER ELECTRONIC DEVICE (NAVIGATION DEVICE, DVD PLAYER, ETC.)\",\n",
    "        \"TEXTING\",\n",
    "        \"UNDER THE INFLUENCE OF ALCOHOL/DRUGS (USE WHEN ARREST IS EFFECTED)\",\n",
    "        \"HAD BEEN DRINKING (USE WHEN ARREST IS NOT MADE)\"], \n",
    "        \"Environmental Factors\": [\n",
    "        \"WEATHER\",\n",
    "        \"VISION OBSCURED (SIGNS, TREE LIMBS, BUILDINGS, ETC.)\",\n",
    "        \"ROAD ENGINEERING/SURFACE/MARKING DEFECTS\",\n",
    "        \"ROAD CONSTRUCTION/MAINTENANCE\",\n",
    "        \"EVASIVE ACTION DUE TO ANIMAL, OBJECT, NONMOTORIST\",\n",
    "        \"ANIMAL\"],\n",
    "    \"Vehicle-Related Issues\": [\n",
    "        \"EQUIPMENT - VEHICLE CONDITION\",\n",
    "        \"PHYSICAL CONDITION OF DRIVER\"],\n",
    "    \"Misc Specific Scenarios\": [\n",
    "        \"RELATED TO BUS STOP\"]\n",
    "}\n"
   ]
  },
  {
   "cell_type": "code",
   "execution_count": 82,
   "metadata": {},
   "outputs": [],
   "source": [
    "#Function to Map the New Categories\n",
    "def new_category_map(primary_cause):\n",
    "    for category, primary_causes in cat_map.items():\n",
    "        if primary_cause in primary_causes:\n",
    "            return category\n"
   ]
  },
  {
   "cell_type": "code",
   "execution_count": 83,
   "metadata": {},
   "outputs": [],
   "source": [
    "#Mapping Categories\n",
    "df[\"prim_cause_category\"] = df[\"PRIM_CONTRIBUTORY_CAUSE\"].map(new_category_map)"
   ]
  },
  {
   "cell_type": "markdown",
   "metadata": {},
   "source": [
    "### Let's Take a look at the Crash Cause Categories Now"
   ]
  },
  {
   "cell_type": "code",
   "execution_count": 84,
   "metadata": {},
   "outputs": [
    {
     "data": {
      "text/plain": [
       "Traffic Violations         360285\n",
       "Unable to Determine        340644\n",
       "Environmental Factors       21829\n",
       "Distracted Driving          14720\n",
       "Vehicle-Related Issues       9485\n",
       "Misc Specific Scenarios       355\n",
       "Name: prim_cause_category, dtype: int64"
      ]
     },
     "execution_count": 84,
     "metadata": {},
     "output_type": "execute_result"
    }
   ],
   "source": [
    "#Finding the Count of Each Crash Cause\n",
    "df[\"prim_cause_category\"].value_counts()"
   ]
  },
  {
   "cell_type": "markdown",
   "metadata": {},
   "source": [
    "###### Looks Very Unbalanced; Also need to drop the \"Unable to Determines\""
   ]
  },
  {
   "cell_type": "code",
   "execution_count": 85,
   "metadata": {},
   "outputs": [],
   "source": [
    "#dropping Unable to Determine Target Variable rows\n",
    "df_final = df[df[\"prim_cause_category\"] != \"Unable to Determine\"]"
   ]
  },
  {
   "cell_type": "code",
   "execution_count": 86,
   "metadata": {},
   "outputs": [
    {
     "data": {
      "text/plain": [
       "CRASH_RECORD_ID                       0\n",
       "RD_NO                              2313\n",
       "CRASH_DATE_EST_I                 410711\n",
       "CRASH_DATE                            0\n",
       "POSTED_SPEED_LIMIT                    0\n",
       "TRAFFIC_CONTROL_DEVICE                0\n",
       "DEVICE_CONDITION                      0\n",
       "WEATHER_CONDITION                     0\n",
       "LIGHTING_CONDITION                    0\n",
       "FIRST_CRASH_TYPE                      0\n",
       "TRAFFICWAY_TYPE                       0\n",
       "LANE_CNT                         310013\n",
       "ALIGNMENT                             0\n",
       "ROADWAY_SURFACE_COND                  0\n",
       "ROAD_DEFECT                           0\n",
       "REPORT_TYPE                       12763\n",
       "CRASH_TYPE                            0\n",
       "INTERSECTION_RELATED_I           308122\n",
       "NOT_RIGHT_OF_WAY_I               414622\n",
       "HIT_AND_RUN_I                    328993\n",
       "DAMAGE                                0\n",
       "DATE_POLICE_NOTIFIED                  0\n",
       "PRIM_CONTRIBUTORY_CAUSE               0\n",
       "SEC_CONTRIBUTORY_CAUSE                0\n",
       "STREET_NO                             0\n",
       "STREET_DIRECTION                      3\n",
       "STREET_NAME                           0\n",
       "BEAT_OF_OCCURRENCE                    4\n",
       "PHOTOS_TAKEN_I                   425812\n",
       "STATEMENTS_TAKEN_I               420527\n",
       "DOORING_I                        431267\n",
       "WORK_ZONE_I                      429294\n",
       "WORK_ZONE_TYPE                   429913\n",
       "WORKERS_PRESENT_I                431547\n",
       "NUM_UNITS                             0\n",
       "MOST_SEVERE_INJURY                  404\n",
       "INJURIES_TOTAL                      401\n",
       "INJURIES_FATAL                      401\n",
       "INJURIES_INCAPACITATING             401\n",
       "INJURIES_NON_INCAPACITATING         401\n",
       "INJURIES_REPORTED_NOT_EVIDENT       401\n",
       "INJURIES_NO_INDICATION              401\n",
       "INJURIES_UNKNOWN                    401\n",
       "CRASH_HOUR                            0\n",
       "CRASH_DAY_OF_WEEK                     0\n",
       "CRASH_MONTH                           0\n",
       "LATITUDE                           3150\n",
       "LONGITUDE                          3150\n",
       "LOCATION                           3150\n",
       "prim_cause_category               25676\n",
       "dtype: int64"
      ]
     },
     "execution_count": 86,
     "metadata": {},
     "output_type": "execute_result"
    }
   ],
   "source": [
    "#Finding NA's\n",
    "df_final.isna().sum()"
   ]
  },
  {
   "cell_type": "code",
   "execution_count": 87,
   "metadata": {},
   "outputs": [],
   "source": [
    "#Dropping Irrelevant Features\n",
    "columns_to_drop = [\"LOCATION\", \"LATITUDE\", \"LONGITUDE\", \"RD_NO\", \"CRASH_DATE\", \"CRASH_DATE_EST_I\", \"LANE_CNT\",\n",
    "                   \"WORKERS_PRESENT_I\", \"WORK_ZONE_I\", \"WORK_ZONE_TYPE\", \"PHOTOS_TAKEN_I\", \"WORKERS_PRESENT_I\",\n",
    "                   \"STATEMENTS_TAKEN_I\", \"NOT_RIGHT_OF_WAY_I\", \"DOORING_I\", \"INTERSECTION_RELATED_I\", \"NOT_RIGHT_OF_WAY_I\",\n",
    "                   \"HIT_AND_RUN_I\"]\n",
    "\n",
    "df_final = df_final.drop(columns=columns_to_drop, axis=1)\n"
   ]
  },
  {
   "cell_type": "markdown",
   "metadata": {},
   "source": [
    "###### Let's Move on to the Vehicles Dataset"
   ]
  },
  {
   "cell_type": "code",
   "execution_count": 88,
   "metadata": {},
   "outputs": [
    {
     "name": "stdout",
     "output_type": "stream",
     "text": [
      "<class 'pandas.core.frame.DataFrame'>\n",
      "RangeIndex: 1578342 entries, 0 to 1578341\n",
      "Data columns (total 72 columns):\n",
      " #   Column                    Non-Null Count    Dtype  \n",
      "---  ------                    --------------    -----  \n",
      " 0   CRASH_UNIT_ID             1578342 non-null  int64  \n",
      " 1   CRASH_RECORD_ID           1578342 non-null  object \n",
      " 2   RD_NO                     1569165 non-null  object \n",
      " 3   CRASH_DATE                1578342 non-null  object \n",
      " 4   UNIT_NO                   1578342 non-null  int64  \n",
      " 5   UNIT_TYPE                 1576264 non-null  object \n",
      " 6   NUM_PASSENGERS            233608 non-null   float64\n",
      " 7   VEHICLE_ID                1542246 non-null  float64\n",
      " 8   CMRC_VEH_I                29446 non-null    object \n",
      " 9   MAKE                      1542241 non-null  object \n",
      " 10  MODEL                     1542096 non-null  object \n",
      " 11  LIC_PLATE_STATE           1401207 non-null  object \n",
      " 12  VEHICLE_YEAR              1293213 non-null  float64\n",
      " 13  VEHICLE_DEFECT            1542246 non-null  object \n",
      " 14  VEHICLE_TYPE              1542246 non-null  object \n",
      " 15  VEHICLE_USE               1542246 non-null  object \n",
      " 16  TRAVEL_DIRECTION          1542246 non-null  object \n",
      " 17  MANEUVER                  1542246 non-null  object \n",
      " 18  TOWED_I                   194633 non-null   object \n",
      " 19  FIRE_I                    1288 non-null     object \n",
      " 20  OCCUPANT_CNT              1542246 non-null  float64\n",
      " 21  EXCEED_SPEED_LIMIT_I      2397 non-null     object \n",
      " 22  TOWED_BY                  145917 non-null   object \n",
      " 23  TOWED_TO                  89668 non-null    object \n",
      " 24  AREA_00_I                 54694 non-null    object \n",
      " 25  AREA_01_I                 420019 non-null   object \n",
      " 26  AREA_02_I                 251372 non-null   object \n",
      " 27  AREA_03_I                 150747 non-null   object \n",
      " 28  AREA_04_I                 150963 non-null   object \n",
      " 29  AREA_05_I                 234349 non-null   object \n",
      " 30  AREA_06_I                 246145 non-null   object \n",
      " 31  AREA_07_I                 226151 non-null   object \n",
      " 32  AREA_08_I                 227925 non-null   object \n",
      " 33  AREA_09_I                 102541 non-null   object \n",
      " 34  AREA_10_I                 148825 non-null   object \n",
      " 35  AREA_11_I                 288925 non-null   object \n",
      " 36  AREA_12_I                 283338 non-null   object \n",
      " 37  AREA_99_I                 176980 non-null   object \n",
      " 38  FIRST_CONTACT_POINT       1539143 non-null  object \n",
      " 39  CMV_ID                    16230 non-null    float64\n",
      " 40  USDOT_NO                  9175 non-null     object \n",
      " 41  CCMC_NO                   1967 non-null     object \n",
      " 42  ILCC_NO                   1361 non-null     object \n",
      " 43  COMMERCIAL_SRC            10843 non-null    object \n",
      " 44  GVWR                      9108 non-null     object \n",
      " 45  CARRIER_NAME              15510 non-null    object \n",
      " 46  CARRIER_STATE             14562 non-null    object \n",
      " 47  CARRIER_CITY              14290 non-null    object \n",
      " 48  HAZMAT_PLACARDS_I         317 non-null      object \n",
      " 49  HAZMAT_NAME               59 non-null       object \n",
      " 50  UN_NO                     552 non-null      object \n",
      " 51  HAZMAT_PRESENT_I          11844 non-null    object \n",
      " 52  HAZMAT_REPORT_I           11510 non-null    object \n",
      " 53  HAZMAT_REPORT_NO          1 non-null        object \n",
      " 54  MCS_REPORT_I              11560 non-null    object \n",
      " 55  MCS_REPORT_NO             7 non-null        object \n",
      " 56  HAZMAT_VIO_CAUSE_CRASH_I  11670 non-null    object \n",
      " 57  MCS_VIO_CAUSE_CRASH_I     11471 non-null    object \n",
      " 58  IDOT_PERMIT_NO            890 non-null      object \n",
      " 59  WIDE_LOAD_I               140 non-null      object \n",
      " 60  TRAILER1_WIDTH            2838 non-null     object \n",
      " 61  TRAILER2_WIDTH            337 non-null      object \n",
      " 62  TRAILER1_LENGTH           2303 non-null     float64\n",
      " 63  TRAILER2_LENGTH           66 non-null       float64\n",
      " 64  TOTAL_VEHICLE_LENGTH      2800 non-null     float64\n",
      " 65  AXLE_CNT                  4169 non-null     float64\n",
      " 66  VEHICLE_CONFIG            13461 non-null    object \n",
      " 67  CARGO_BODY_TYPE           12858 non-null    object \n",
      " 68  LOAD_TYPE                 12302 non-null    object \n",
      " 69  HAZMAT_OUT_OF_SERVICE_I   11170 non-null    object \n",
      " 70  MCS_OUT_OF_SERVICE_I      11422 non-null    object \n",
      " 71  HAZMAT_CLASS              1064 non-null     object \n",
      "dtypes: float64(9), int64(2), object(61)\n",
      "memory usage: 867.0+ MB\n"
     ]
    }
   ],
   "source": [
    "#Looking at the datatypes for the vehicles dataset\n",
    "df_2.info()"
   ]
  },
  {
   "cell_type": "markdown",
   "metadata": {},
   "source": [
    "###### Way too Many Features and We're going to have to aggregate due to the nature of the data"
   ]
  },
  {
   "cell_type": "code",
   "execution_count": 89,
   "metadata": {},
   "outputs": [],
   "source": [
    "#Aggregating the features of interest by car crash ID\n",
    "aggregated_data = df_2.groupby('CRASH_RECORD_ID').agg({\n",
    "    'VEHICLE_YEAR': 'first',\n",
    "    'VEHICLE_DEFECT': 'first',\n",
    "    'VEHICLE_TYPE': 'first',\n",
    "    'VEHICLE_USE': 'first',\n",
    "    'TRAVEL_DIRECTION': 'first',\n",
    "    'MANEUVER': 'first'\n",
    "    \n",
    "}).reset_index()\n",
    "\n",
    "final_data = pd.merge(df_final, aggregated_data, on='CRASH_RECORD_ID')"
   ]
  },
  {
   "cell_type": "code",
   "execution_count": 90,
   "metadata": {},
   "outputs": [
    {
     "name": "stdout",
     "output_type": "stream",
     "text": [
      "<class 'pandas.core.frame.DataFrame'>\n",
      "Int64Index: 432349 entries, 0 to 432348\n",
      "Data columns (total 40 columns):\n",
      " #   Column                         Non-Null Count   Dtype  \n",
      "---  ------                         --------------   -----  \n",
      " 0   CRASH_RECORD_ID                432349 non-null  object \n",
      " 1   POSTED_SPEED_LIMIT             432349 non-null  int64  \n",
      " 2   TRAFFIC_CONTROL_DEVICE         432349 non-null  object \n",
      " 3   DEVICE_CONDITION               432349 non-null  object \n",
      " 4   WEATHER_CONDITION              432349 non-null  object \n",
      " 5   LIGHTING_CONDITION             432349 non-null  object \n",
      " 6   FIRST_CRASH_TYPE               432349 non-null  object \n",
      " 7   TRAFFICWAY_TYPE                432349 non-null  object \n",
      " 8   ALIGNMENT                      432349 non-null  object \n",
      " 9   ROADWAY_SURFACE_COND           432349 non-null  object \n",
      " 10  ROAD_DEFECT                    432349 non-null  object \n",
      " 11  REPORT_TYPE                    419586 non-null  object \n",
      " 12  CRASH_TYPE                     432349 non-null  object \n",
      " 13  DAMAGE                         432349 non-null  object \n",
      " 14  DATE_POLICE_NOTIFIED           432349 non-null  object \n",
      " 15  PRIM_CONTRIBUTORY_CAUSE        432349 non-null  object \n",
      " 16  SEC_CONTRIBUTORY_CAUSE         432349 non-null  object \n",
      " 17  STREET_NO                      432349 non-null  int64  \n",
      " 18  STREET_DIRECTION               432346 non-null  object \n",
      " 19  STREET_NAME                    432349 non-null  object \n",
      " 20  BEAT_OF_OCCURRENCE             432345 non-null  float64\n",
      " 21  NUM_UNITS                      432349 non-null  int64  \n",
      " 22  MOST_SEVERE_INJURY             431945 non-null  object \n",
      " 23  INJURIES_TOTAL                 431948 non-null  float64\n",
      " 24  INJURIES_FATAL                 431948 non-null  float64\n",
      " 25  INJURIES_INCAPACITATING        431948 non-null  float64\n",
      " 26  INJURIES_NON_INCAPACITATING    431948 non-null  float64\n",
      " 27  INJURIES_REPORTED_NOT_EVIDENT  431948 non-null  float64\n",
      " 28  INJURIES_NO_INDICATION         431948 non-null  float64\n",
      " 29  INJURIES_UNKNOWN               431948 non-null  float64\n",
      " 30  CRASH_HOUR                     432349 non-null  int64  \n",
      " 31  CRASH_DAY_OF_WEEK              432349 non-null  int64  \n",
      " 32  CRASH_MONTH                    432349 non-null  int64  \n",
      " 33  prim_cause_category            406673 non-null  object \n",
      " 34  VEHICLE_YEAR                   418850 non-null  float64\n",
      " 35  VEHICLE_DEFECT                 432305 non-null  object \n",
      " 36  VEHICLE_TYPE                   432305 non-null  object \n",
      " 37  VEHICLE_USE                    432305 non-null  object \n",
      " 38  TRAVEL_DIRECTION               432305 non-null  object \n",
      " 39  MANEUVER                       432305 non-null  object \n",
      "dtypes: float64(9), int64(6), object(25)\n",
      "memory usage: 135.2+ MB\n"
     ]
    }
   ],
   "source": [
    "#looking at merged dataset\n",
    "final_data.info()"
   ]
  },
  {
   "cell_type": "markdown",
   "metadata": {},
   "source": [
    "###### 39 Total Features, 15 Numeric and 25 Categorical"
   ]
  },
  {
   "cell_type": "markdown",
   "metadata": {},
   "source": [
    "###### Let's get our final features and get dummies for our categorical rows"
   ]
  },
  {
   "cell_type": "code",
   "execution_count": 93,
   "metadata": {},
   "outputs": [],
   "source": [
    "#Finalizing our Features\n",
    "categorical_columns = ['TRAFFIC_CONTROL_DEVICE', 'DEVICE_CONDITION', 'WEATHER_CONDITION', 'LIGHTING_CONDITION',\n",
    "                    'TRAFFICWAY_TYPE', 'ALIGNMENT', 'ROADWAY_SURFACE_COND', 'ROAD_DEFECT',\n",
    "                        'DAMAGE',\n",
    "                        'MOST_SEVERE_INJURY',\n",
    "                       'VEHICLE_TYPE','TRAVEL_DIRECTION', 'MANEUVER']\n",
    "\n",
    "non_categorical_columns = ['POSTED_SPEED_LIMIT', 'INJURIES_TOTAL', 'INJURIES_FATAL', 'INJURIES_INCAPACITATING', 'INJURIES_NON_INCAPACITATING', 'CRASH_HOUR', 'CRASH_DAY_OF_WEEK', 'CRASH_MONTH', \"prim_cause_category\"]\n"
   ]
  },
  {
   "cell_type": "code",
   "execution_count": 103,
   "metadata": {},
   "outputs": [],
   "source": [
    "#Combining our Final Features and Dropping NA's\n",
    "combined_df = pd.concat([final_data[categorical_columns], final_data[non_categorical_columns]], axis=1)\n",
    "cleaned_df = combined_df.dropna()\n"
   ]
  },
  {
   "cell_type": "markdown",
   "metadata": {},
   "source": [
    "###### Exploratory Data Analysis for DF"
   ]
  },
  {
   "cell_type": "code",
   "execution_count": 110,
   "metadata": {},
   "outputs": [
    {
     "data": {
      "image/png": "[encoded data removed]",
      "text/plain": [
       "<Figure size 1008x432 with 1 Axes>"
      ]
     },
     "metadata": {
      "needs_background": "light"
     },
     "output_type": "display_data"
    }
   ],
   "source": [
    "#Maneuver Distribution for Crashes\n",
    "plt.figure(figsize=(14, 6))\n",
    "sns.histplot(cleaned_df[\"MANEUVER\"])\n",
    "plt.xlabel(\"Values\")\n",
    "plt.ylabel(\"Frequency\")\n",
    "plt.title(\"Maneuver Histogram\")\n",
    "plt.xticks(rotation =90)\n",
    "plt.show()"
   ]
  },
  {
   "cell_type": "code",
   "execution_count": 111,
   "metadata": {},
   "outputs": [
    {
     "data": {
      "image/png": "[encoded data removed]",
      "text/plain": [
       "<Figure size 1008x432 with 1 Axes>"
      ]
     },
     "metadata": {
      "needs_background": "light"
     },
     "output_type": "display_data"
    }
   ],
   "source": [
    "#Roadway Surface Condition Distribution\n",
    "plt.figure(figsize=(14, 6))\n",
    "sns.histplot(cleaned_df[\"ROADWAY_SURFACE_COND\"])\n",
    "plt.xlabel(\"Values\")\n",
    "plt.ylabel(\"Frequency\")\n",
    "plt.title(\"Roadway Surface Condition Frequency\")\n",
    "plt.xticks(rotation =45)\n",
    "plt.show()"
   ]
  },
  {
   "cell_type": "code",
   "execution_count": 112,
   "metadata": {},
   "outputs": [
    {
     "data": {
      "image/png": "[encoded data removed]",
      "text/plain": [
       "<Figure size 1008x432 with 1 Axes>"
      ]
     },
     "metadata": {
      "needs_background": "light"
     },
     "output_type": "display_data"
    }
   ],
   "source": [
    "#Weather Condition Distribution\n",
    "plt.figure(figsize=(14, 6))\n",
    "sns.histplot(cleaned_df[\"WEATHER_CONDITION\"])\n",
    "plt.xlabel(\"Values\")\n",
    "plt.ylabel(\"Frequency\")\n",
    "plt.title(\"Weather Condition Frequency\")\n",
    "plt.xticks(rotation =45)\n",
    "plt.show()"
   ]
  },
  {
   "cell_type": "code",
   "execution_count": 118,
   "metadata": {},
   "outputs": [
    {
     "data": {
      "image/png": "[encoded data removed]",
      "text/plain": [
       "<Figure size 1008x432 with 1 Axes>"
      ]
     },
     "metadata": {
      "needs_background": "light"
     },
     "output_type": "display_data"
    }
   ],
   "source": [
    "#Crash Hour Distribution\n",
    "plt.figure(figsize=(14, 6))\n",
    "sns.histplot(cleaned_df[\"CRASH_HOUR\"])\n",
    "plt.xlabel(\"Values\")\n",
    "plt.ylabel(\"Frequency\")\n",
    "plt.title(\"Crash Hour Frequency\")\n",
    "hour_labels = [f\"{hour} AM\" if hour < 12 else f\"{hour-12} PM\" if hour > 12 else \"12 PM\" for hour in range(1, 25)]\n",
    "\n",
    "plt.xticks(range(1, 25), hour_labels)\n",
    "plt.show()"
   ]
  },
  {
   "cell_type": "code",
   "execution_count": 120,
   "metadata": {},
   "outputs": [
    {
     "data": {
      "image/png": "[encoded data removed]",
      "text/plain": [
       "<Figure size 720x432 with 1 Axes>"
      ]
     },
     "metadata": {
      "needs_background": "light"
     },
     "output_type": "display_data"
    }
   ],
   "source": [
    "# Crash Month Distribution\n",
    "plt.figure(figsize=(10, 6))\n",
    "sns.histplot(cleaned_df[\"CRASH_MONTH\"])\n",
    "plt.xlabel(\"Values\")\n",
    "plt.ylabel(\"Frequency\")\n",
    "plt.title(\"Crash Month Frequency\")\n",
    "plt.xticks(rotation =45)\n",
    "month_labels = [\"Jan\", \"Feb\", \"Mar\", \"Apr\", \"May\", \"Jun\", \"Jul\", \"Aug\", \"Sep\", \"Oct\", \"Nov\", \"Dec\"]\n",
    "plt.xticks(range(1,13), month_labels)\n",
    "plt.show()"
   ]
  },
  {
   "cell_type": "code",
   "execution_count": 123,
   "metadata": {},
   "outputs": [
    {
     "data": {
      "image/png": "[encoded data removed]",
      "text/plain": [
       "<Figure size 720x432 with 1 Axes>"
      ]
     },
     "metadata": {
      "needs_background": "light"
     },
     "output_type": "display_data"
    }
   ],
   "source": [
    "#Crash day of week distribution\n",
    "plt.figure(figsize=(10, 6))\n",
    "sns.histplot(cleaned_df[\"CRASH_DAY_OF_WEEK\"])\n",
    "plt.xlabel(\"Values\")\n",
    "plt.ylabel(\"Frequency\")\n",
    "plt.title(\"Crash Day of Week Frequency\")\n",
    "plt.xticks(rotation =45)\n",
    "day_labels = [\"Mon\", \"Tues\", \"Weds\", \"Thurs\",\"Fri\",\"Sat\",\"Sun\" ]\n",
    "plt.xticks(range(1,8), day_labels)\n",
    "plt.show()"
   ]
  },
  {
   "cell_type": "markdown",
   "metadata": {},
   "source": [
    "###### Looking at Distribution of Our Target Variable"
   ]
  },
  {
   "cell_type": "code",
   "execution_count": 114,
   "metadata": {},
   "outputs": [
    {
     "data": {
      "image/png": "[encoded data removed]",
      "text/plain": [
       "<Figure size 1008x432 with 1 Axes>"
      ]
     },
     "metadata": {
      "needs_background": "light"
     },
     "output_type": "display_data"
    }
   ],
   "source": [
    "#Target Variable Distribution\n",
    "plt.figure(figsize=(14, 6))\n",
    "sns.histplot(preprocessed_df[\"prim_cause_category\"])  \n",
    "plt.xlabel(\"Values\")\n",
    "plt.ylabel(\"Frequency\")\n",
    "plt.title(\"Crash Cause Frequency\")\n",
    "plt.xticks(rotation =90)\n",
    "plt.show()"
   ]
  },
  {
   "cell_type": "markdown",
   "metadata": {},
   "source": [
    "###### Super Imbalanced; Going to need to downsample"
   ]
  },
  {
   "cell_type": "markdown",
   "metadata": {},
   "source": [
    "###### Getting Dummies for the Categorical Columns to prepare for ML"
   ]
  },
  {
   "cell_type": "code",
   "execution_count": 107,
   "metadata": {},
   "outputs": [
    {
     "name": "stdout",
     "output_type": "stream",
     "text": [
      "406263\n"
     ]
    }
   ],
   "source": [
    "categorical_df_encoded = pd.get_dummies(cleaned_df[categorical_columns], columns=categorical_columns, drop_first=True)\n",
    "preprocessed_df = pd.concat([categorical_df_encoded, cleaned_df[non_categorical_columns]], axis=1)\n",
    "print(len(final_encoded_df))"
   ]
  },
  {
   "cell_type": "markdown",
   "metadata": {},
   "source": [
    "###### Downsampling "
   ]
  },
  {
   "cell_type": "code",
   "execution_count": 115,
   "metadata": {},
   "outputs": [],
   "source": [
    "#Seperating into Majority and Minority Classes\n",
    "minority_df = preprocessed_df[preprocessed_df[\"prim_cause_category\"] != \"Traffic Violations\"]\n",
    "majority_df = preprocessed_df[preprocessed_df[\"prim_cause_category\"] == \"Traffic Violations\"]"
   ]
  },
  {
   "cell_type": "code",
   "execution_count": 124,
   "metadata": {},
   "outputs": [
    {
     "name": "stdout",
     "output_type": "stream",
     "text": [
      "46182\n"
     ]
    }
   ],
   "source": [
    "#finding # of observations of the minority sample\n",
    "print(len(minority_df))"
   ]
  },
  {
   "cell_type": "markdown",
   "metadata": {},
   "source": [
    "###### Resampling the Majority Class to Match our Minority"
   ]
  },
  {
   "cell_type": "code",
   "execution_count": 127,
   "metadata": {},
   "outputs": [],
   "source": [
    "#Downsampling the Majority Class\n",
    "from sklearn.utils import resample\n",
    "majority_df_resample = resample(majority_df, replace = False, n_samples = 46182, random_state=42)"
   ]
  },
  {
   "cell_type": "markdown",
   "metadata": {},
   "source": [
    "###### Rejoining the Dataframes"
   ]
  },
  {
   "cell_type": "code",
   "execution_count": 128,
   "metadata": {},
   "outputs": [],
   "source": [
    "#Rejoining the Downsamples Majority with the minority classes\n",
    "preprocessed_df = pd.concat([majority_df_resample, minority_df])"
   ]
  },
  {
   "cell_type": "code",
   "execution_count": 130,
   "metadata": {},
   "outputs": [
    {
     "data": {
      "image/png": "[encoded data removed]",
      "text/plain": [
       "<Figure size 1008x432 with 1 Axes>"
      ]
     },
     "metadata": {
      "needs_background": "light"
     },
     "output_type": "display_data"
    }
   ],
   "source": [
    "#Visualizing the new balanced dataset\n",
    "plt.figure(figsize=(14, 6))\n",
    "sns.histplot(preprocessed_df[\"prim_cause_category\"])  \n",
    "plt.xlabel(\"Values\")\n",
    "plt.ylabel(\"Frequency\")\n",
    "plt.title(\"Crash Cause Frequency\")\n",
    "plt.xticks(rotation =90)\n",
    "plt.show()"
   ]
  },
  {
   "cell_type": "markdown",
   "metadata": {},
   "source": [
    "###### Much more Balanced!"
   ]
  },
  {
   "cell_type": "markdown",
   "metadata": {},
   "source": [
    "## Time for Machine Learning!"
   ]
  },
  {
   "cell_type": "code",
   "execution_count": 145,
   "metadata": {},
   "outputs": [],
   "source": [
    "#Import all the modules we will need \n",
    "from sklearn.compose import ColumnTransformer\n",
    "from sklearn.pipeline import Pipeline\n",
    "from sklearn.preprocessing import StandardScaler\n",
    "from sklearn.tree import DecisionTreeClassifier\n",
    "from sklearn.model_selection import train_test_split\n",
    "from sklearn.metrics import accuracy_score, classification_report, confusion_matrix\n",
    "from sklearn.model_selection import GridSearchCV\n",
    "from sklearn.ensemble.forest import RandomForestClassifier\n",
    "from sklearn.metrics import plot_confusion_matrix\n",
    "import xgboost as xgb\n",
    "\n",
    "\n",
    "\n",
    "\n",
    "\n"
   ]
  },
  {
   "cell_type": "markdown",
   "metadata": {},
   "source": [
    "###### For Fun: Let's Start with a Multi-Class Decision Tree to see what type of accuracy we can get"
   ]
  },
  {
   "cell_type": "code",
   "execution_count": 133,
   "metadata": {},
   "outputs": [],
   "source": [
    "#Initializing DT Pipeline\n",
    "pipeline_dt_base = Pipeline([\n",
    "    (\"ss\", StandardScaler()),\n",
    "    ('classifier', DecisionTreeClassifier(max_depth=20))])"
   ]
  },
  {
   "cell_type": "code",
   "execution_count": 312,
   "metadata": {},
   "outputs": [],
   "source": [
    "#TrainTestSplitting Our Data and Extracting our X and y DF's\n",
    "X = preprocessed_df.drop(columns=[\"prim_cause_category\"])\n",
    "y = preprocessed_df[\"prim_cause_category\"]\n",
    "X_train, X_test, y_train, y_test = train_test_split(X, y, test_size=0.2, random_state=42)"
   ]
  },
  {
   "cell_type": "markdown",
   "metadata": {},
   "source": [
    "###### Fitting Our Model"
   ]
  },
  {
   "cell_type": "code",
   "execution_count": 137,
   "metadata": {},
   "outputs": [
    {
     "data": {
      "text/plain": [
       "Pipeline(steps=[('ss', StandardScaler()),\n",
       "                ('classifier', DecisionTreeClassifier(max_depth=20))])"
      ]
     },
     "execution_count": 137,
     "metadata": {},
     "output_type": "execute_result"
    }
   ],
   "source": [
    "#Fitting the Multi-Class DT\n",
    "pipeline_dt_base.fit(X_train, y_train)\n"
   ]
  },
  {
   "cell_type": "markdown",
   "metadata": {},
   "source": [
    "###### Predicting on the Test"
   ]
  },
  {
   "cell_type": "code",
   "execution_count": 139,
   "metadata": {},
   "outputs": [],
   "source": [
    "\n",
    "y_pred = pipeline_dt_base.predict(X_test)"
   ]
  },
  {
   "cell_type": "code",
   "execution_count": 141,
   "metadata": {},
   "outputs": [
    {
     "name": "stdout",
     "output_type": "stream",
     "text": [
      "Accuracy: 0.579386131110269\n",
      "Confusion Matrix:\n",
      "[[ 672  290    2 1795  151]\n",
      " [ 257 2375    2 1533  104]\n",
      " [   6    8    0   52    2]\n",
      " [ 621  939    6 7460  264]\n",
      " [ 380  242    1 1115  196]]\n",
      "Classification Report:\n",
      "                         precision    recall  f1-score   support\n",
      "\n",
      "     Distracted Driving       0.35      0.23      0.28      2910\n",
      "  Environmental Factors       0.62      0.56      0.58      4271\n",
      "Misc Specific Scenarios       0.00      0.00      0.00        68\n",
      "     Traffic Violations       0.62      0.80      0.70      9290\n",
      " Vehicle-Related Issues       0.27      0.10      0.15      1934\n",
      "\n",
      "               accuracy                           0.58     18473\n",
      "              macro avg       0.37      0.34      0.34     18473\n",
      "           weighted avg       0.54      0.58      0.55     18473\n",
      "\n"
     ]
    }
   ],
   "source": [
    "#Evaluating Results\n",
    "accuracy1 = accuracy_score(y_test, y_pred)\n",
    "conf_matrix1 = confusion_matrix(y_test, y_pred)\n",
    "classification_rep1 = classification_report(y_test, y_pred)\n",
    "\n",
    "\n",
    "print(f\"Accuracy: {accuracy1}\")\n",
    "print(f\"Confusion Matrix:\\n{conf_matrix1}\")\n",
    "print(f\"Classification Report:\\n{classification_rep1}\")"
   ]
  },
  {
   "cell_type": "markdown",
   "metadata": {},
   "source": [
    "###### Not Very Good! But Let's Move on to the Meat of the Problem"
   ]
  },
  {
   "cell_type": "markdown",
   "metadata": {},
   "source": [
    "### Building Binary Classification Problems for Each Crash Type"
   ]
  },
  {
   "cell_type": "markdown",
   "metadata": {},
   "source": [
    "###### First, need to build target variables for each crash cause"
   ]
  },
  {
   "cell_type": "code",
   "execution_count": 142,
   "metadata": {},
   "outputs": [],
   "source": [
    "#Creating 0:1 Target Variables for Each Crash Cause\n",
    "crash_cause_categories = [\"Traffic Violations\", \"Environmental Factors\", \"Distracted Driving\", \"Vehicle-Related Issues\", \"\"]\n",
    "for category in crash_cause_categories:\n",
    "    preprocessed_df[category + '_target'] = (preprocessed_df['prim_cause_category'] == category).astype(int)"
   ]
  },
  {
   "cell_type": "code",
   "execution_count": 143,
   "metadata": {},
   "outputs": [
    {
     "data": {
      "text/plain": [
       "Index(['TRAFFIC_CONTROL_DEVICE_DELINEATORS',\n",
       "       'TRAFFIC_CONTROL_DEVICE_FLASHING CONTROL SIGNAL',\n",
       "       'TRAFFIC_CONTROL_DEVICE_LANE USE MARKING',\n",
       "       'TRAFFIC_CONTROL_DEVICE_NO CONTROLS',\n",
       "       'TRAFFIC_CONTROL_DEVICE_NO PASSING', 'TRAFFIC_CONTROL_DEVICE_OTHER',\n",
       "       'TRAFFIC_CONTROL_DEVICE_OTHER RAILROAD CROSSING',\n",
       "       'TRAFFIC_CONTROL_DEVICE_OTHER REG. SIGN',\n",
       "       'TRAFFIC_CONTROL_DEVICE_OTHER WARNING SIGN',\n",
       "       'TRAFFIC_CONTROL_DEVICE_PEDESTRIAN CROSSING SIGN',\n",
       "       ...\n",
       "       'INJURIES_NON_INCAPACITATING', 'CRASH_HOUR', 'CRASH_DAY_OF_WEEK',\n",
       "       'CRASH_MONTH', 'prim_cause_category', 'Traffic Violations_target',\n",
       "       'Environmental Factors_target', 'Distracted Driving_target',\n",
       "       'Vehicle-Related Issues_target', '_target'],\n",
       "      dtype='object', length=153)"
      ]
     },
     "execution_count": 143,
     "metadata": {},
     "output_type": "execute_result"
    }
   ],
   "source": [
    "#Taking a look at the columns \n",
    "preprocessed_df.columns"
   ]
  },
  {
   "cell_type": "markdown",
   "metadata": {},
   "source": [
    "###### 153 Features"
   ]
  },
  {
   "cell_type": "markdown",
   "metadata": {},
   "source": [
    "###### MODEL 1: XGBoost (Traffic Violation - Cause)"
   ]
  },
  {
   "cell_type": "markdown",
   "metadata": {},
   "source": [
    "###### Splitting the Data"
   ]
  },
  {
   "cell_type": "code",
   "execution_count": 148,
   "metadata": {},
   "outputs": [],
   "source": [
    "X_TrafficViolation = preprocessed_df.drop(columns=[\"prim_cause_category\", \"Environmental Factors_target\", \"Distracted Driving_target\", \"Vehicle-Related Issues_target\", \"Traffic Violations_target\", \"_target\"])\n",
    "y_TrafficViolation = preprocessed_df[\"Traffic Violations_target\"]\n",
    "X_train_tv, X_test_tv, y_train_tv, y_test_tv = train_test_split(X_TrafficViolation, y_TrafficViolation, test_size=0.2, random_state=42)\n",
    "\n"
   ]
  },
  {
   "cell_type": "markdown",
   "metadata": {},
   "source": [
    "###### Initializing the CVSearch"
   ]
  },
  {
   "cell_type": "code",
   "execution_count": 149,
   "metadata": {},
   "outputs": [],
   "source": [
    "param_grid = {\n",
    "    'classifier__n_estimators': [200, 300], \n",
    "    'classifier__max_depth': [10, 20],\n",
    "    'classifier__learning_rate': [0.1, 0.01],\n",
    "    'classifier__subsample': [0.8, 0.9],\n",
    "}\n",
    "xgb_classifier = xgb.XGBClassifier()\n",
    "\n",
    "\n",
    "pipeline_model1 = Pipeline([\n",
    "    ('ss', StandardScaler()),\n",
    "    ('classifier', xgb_classifier)\n",
    "])\n",
    "grid_search_model1 = GridSearchCV(estimator = pipeline_model1, param_grid = param_grid, cv=3, verbose=3, n_jobs=20)\n",
    "\n",
    "\n"
   ]
  },
  {
   "cell_type": "markdown",
   "metadata": {},
   "source": [
    "###### Fitting the Model(s)"
   ]
  },
  {
   "cell_type": "code",
   "execution_count": 150,
   "metadata": {},
   "outputs": [
    {
     "name": "stdout",
     "output_type": "stream",
     "text": [
      "Fitting 3 folds for each of 16 candidates, totalling 48 fits\n"
     ]
    },
    {
     "name": "stderr",
     "output_type": "stream",
     "text": [
      "[Parallel(n_jobs=20)]: Using backend LokyBackend with 20 concurrent workers.\n",
      "[Parallel(n_jobs=20)]: Done  26 out of  48 | elapsed: 19.0min remaining: 16.1min\n",
      "[Parallel(n_jobs=20)]: Done  43 out of  48 | elapsed: 24.1min remaining:  2.8min\n",
      "[Parallel(n_jobs=20)]: Done  48 out of  48 | elapsed: 24.8min finished\n"
     ]
    },
    {
     "data": {
      "text/plain": [
       "GridSearchCV(cv=3,\n",
       "             estimator=Pipeline(steps=[('ss', StandardScaler()),\n",
       "                                       ('classifier',\n",
       "                                        XGBClassifier(base_score=None,\n",
       "                                                      booster=None,\n",
       "                                                      colsample_bylevel=None,\n",
       "                                                      colsample_bynode=None,\n",
       "                                                      colsample_bytree=None,\n",
       "                                                      gamma=None, gpu_id=None,\n",
       "                                                      importance_type='gain',\n",
       "                                                      interaction_constraints=None,\n",
       "                                                      learning_rate=None,\n",
       "                                                      max_delta_step=None,\n",
       "                                                      max_depth=None,\n",
       "                                                      min_child_weight=None,\n",
       "                                                      missing...\n",
       "                                                      n_jobs=None,\n",
       "                                                      num_parallel_tree=None,\n",
       "                                                      random_state=None,\n",
       "                                                      reg_alpha=None,\n",
       "                                                      reg_lambda=None,\n",
       "                                                      scale_pos_weight=None,\n",
       "                                                      subsample=None,\n",
       "                                                      tree_method=None,\n",
       "                                                      validate_parameters=None,\n",
       "                                                      verbosity=None))]),\n",
       "             n_jobs=20,\n",
       "             param_grid={'classifier__learning_rate': [0.1, 0.01],\n",
       "                         'classifier__max_depth': [10, 20],\n",
       "                         'classifier__n_estimators': [200, 300],\n",
       "                         'classifier__subsample': [0.8, 0.9]},\n",
       "             verbose=3)"
      ]
     },
     "execution_count": 150,
     "metadata": {},
     "output_type": "execute_result"
    }
   ],
   "source": [
    "grid_search_model1.fit(X_train_tv, y_train_tv)"
   ]
  },
  {
   "cell_type": "markdown",
   "metadata": {},
   "source": [
    "#### Saving the Best Params and the Best Estimator from CV Search"
   ]
  },
  {
   "cell_type": "code",
   "execution_count": 185,
   "metadata": {},
   "outputs": [
    {
     "name": "stdout",
     "output_type": "stream",
     "text": [
      "{'classifier__learning_rate': 0.1, 'classifier__max_depth': 10, 'classifier__n_estimators': 200, 'classifier__subsample': 0.9}\n"
     ]
    },
    {
     "data": {
      "text/plain": [
       "0.6976221672294489"
      ]
     },
     "execution_count": 185,
     "metadata": {},
     "output_type": "execute_result"
    }
   ],
   "source": [
    "best_params = grid_search_model1.best_params_\n",
    "print(best_params)\n",
    "best_model_xgb_tv = grid_search_model1.best_estimator_\n",
    "best_score = grid_search_model1.best_score_\n",
    "best_score"
   ]
  },
  {
   "cell_type": "markdown",
   "metadata": {},
   "source": [
    "###### MODEL 2: RandomForest (Traffic Violation - Cause)"
   ]
  },
  {
   "cell_type": "markdown",
   "metadata": {},
   "source": [
    "###### Intializing the CV Search"
   ]
  },
  {
   "cell_type": "code",
   "execution_count": 186,
   "metadata": {},
   "outputs": [],
   "source": [
    "param_grid = {\n",
    "    'classifier__n_estimators': [100, 200],\n",
    "    'classifier__max_depth': [10, 15],\n",
    "    'classifier__min_samples_split': [2, 5],\n",
    "    'classifier__max_features': ['auto', 'sqrt'],\n",
    "    'classifier__criterion': ['gini', 'entropy']\n",
    "}\n",
    "\n",
    "\n",
    "pipeline_model2 = Pipeline([\n",
    "    (\"ss\", StandardScaler()),\n",
    "    ('classifier', RandomForestClassifier(n_jobs=20))\n",
    "])\n",
    "\n",
    "grid_search_model2 = GridSearchCV(estimator = pipeline_model2, param_grid = param_grid, cv=3, verbose=3, n_jobs=20)\n",
    "\n",
    "\n",
    "\n"
   ]
  },
  {
   "cell_type": "markdown",
   "metadata": {},
   "source": [
    "###### Fitting the Models"
   ]
  },
  {
   "cell_type": "code",
   "execution_count": 187,
   "metadata": {},
   "outputs": [
    {
     "name": "stdout",
     "output_type": "stream",
     "text": [
      "Fitting 3 folds for each of 32 candidates, totalling 96 fits\n"
     ]
    },
    {
     "name": "stderr",
     "output_type": "stream",
     "text": [
      "[Parallel(n_jobs=20)]: Using backend LokyBackend with 20 concurrent workers.\n",
      "[Parallel(n_jobs=20)]: Done  90 out of  96 | elapsed:  1.9min remaining:    7.6s\n",
      "[Parallel(n_jobs=20)]: Done  96 out of  96 | elapsed:  2.0min finished\n"
     ]
    },
    {
     "data": {
      "text/plain": [
       "GridSearchCV(cv=3,\n",
       "             estimator=Pipeline(steps=[('ss', StandardScaler()),\n",
       "                                       ('classifier',\n",
       "                                        RandomForestClassifier(n_jobs=20))]),\n",
       "             n_jobs=20,\n",
       "             param_grid={'classifier__criterion': ['gini', 'entropy'],\n",
       "                         'classifier__max_depth': [10, 15],\n",
       "                         'classifier__max_features': ['auto', 'sqrt'],\n",
       "                         'classifier__min_samples_split': [2, 5],\n",
       "                         'classifier__n_estimators': [100, 200]},\n",
       "             verbose=3)"
      ]
     },
     "execution_count": 187,
     "metadata": {},
     "output_type": "execute_result"
    }
   ],
   "source": [
    "grid_search_model2.fit(X_train_tv, y_train_tv)"
   ]
  },
  {
   "cell_type": "markdown",
   "metadata": {},
   "source": [
    "###### Extracting Best Model and Looking at Score"
   ]
  },
  {
   "cell_type": "code",
   "execution_count": 188,
   "metadata": {},
   "outputs": [
    {
     "name": "stdout",
     "output_type": "stream",
     "text": [
      "{'classifier__criterion': 'entropy', 'classifier__max_depth': 15, 'classifier__max_features': 'sqrt', 'classifier__min_samples_split': 5, 'classifier__n_estimators': 100}\n"
     ]
    },
    {
     "data": {
      "text/plain": [
       "0.6923847124441861"
      ]
     },
     "execution_count": 188,
     "metadata": {},
     "output_type": "execute_result"
    }
   ],
   "source": [
    "best_params = grid_search_model2.best_params_\n",
    "print(best_params)\n",
    "best_model_rf_tv = grid_search_model2.best_estimator_\n",
    "best_score = grid_search_model2.best_score_\n",
    "best_score"
   ]
  },
  {
   "cell_type": "markdown",
   "metadata": {},
   "source": [
    "###### Extracting Model from Pipeline for Later Feature Importance Analysis"
   ]
  },
  {
   "cell_type": "code",
   "execution_count": 189,
   "metadata": {},
   "outputs": [],
   "source": [
    "base_model_rf = best_model_rf_tv.named_steps['classifier']\n",
    "base_model_xgb = best_model_xgb_tv.named_steps['classifier']  "
   ]
  },
  {
   "cell_type": "markdown",
   "metadata": {},
   "source": [
    "### Model 3: StackedClassifier(Final Estimator: Logistic Regression)"
   ]
  },
  {
   "cell_type": "code",
   "execution_count": null,
   "metadata": {},
   "outputs": [],
   "source": []
  },
  {
   "cell_type": "code",
   "execution_count": 163,
   "metadata": {},
   "outputs": [],
   "source": [
    "#Setting up Final Estimator\n",
    "from sklearn.linear_model import LogisticRegression\n",
    "\n",
    "final_model = LogisticRegression(c=)"
   ]
  },
  {
   "cell_type": "code",
   "execution_count": 164,
   "metadata": {},
   "outputs": [
    {
     "data": {
      "text/plain": [
       "StackingClassifier(estimators=[('rf',\n",
       "                                RandomForestClassifier(criterion='entropy',\n",
       "                                                       max_depth=15,\n",
       "                                                       max_features='sqrt',\n",
       "                                                       n_estimators=200,\n",
       "                                                       n_jobs=20)),\n",
       "                               ('xgb',\n",
       "                                RandomForestClassifier(criterion='entropy',\n",
       "                                                       max_depth=15,\n",
       "                                                       max_features='sqrt',\n",
       "                                                       n_estimators=200,\n",
       "                                                       n_jobs=20))],\n",
       "                   final_estimator=LogisticRegression())"
      ]
     },
     "execution_count": 164,
     "metadata": {},
     "output_type": "execute_result"
    }
   ],
   "source": [
    "#Running the Stacked Classifier\n",
    "from sklearn.ensemble import StackingClassifier\n",
    "base_models = [(\"rf\",base_model_rf),(\"xgb\", base_model_xgb)]\n",
    "stacking_model = StackingClassifier(estimators=base_models, final_estimator=final_model)\n",
    "stacking_model.fit(X_train_tv, y_train_tv)"
   ]
  },
  {
   "cell_type": "code",
   "execution_count": 165,
   "metadata": {},
   "outputs": [],
   "source": [
    "#Predicting on the Test\n",
    "y_pred3 = stacking_model.predict(X_test_tv)"
   ]
  },
  {
   "cell_type": "code",
   "execution_count": 170,
   "metadata": {},
   "outputs": [
    {
     "data": {
      "text/plain": [
       "<sklearn.metrics._plot.confusion_matrix.ConfusionMatrixDisplay at 0x29495349a60>"
      ]
     },
     "execution_count": 170,
     "metadata": {},
     "output_type": "execute_result"
    },
    {
     "data": {
      "image/png": "[encoded data removed]",
      "text/plain": [
       "<Figure size 432x288 with 2 Axes>"
      ]
     },
     "metadata": {
      "needs_background": "light"
     },
     "output_type": "display_data"
    }
   ],
   "source": [
    "fig, ax = plt.subplots()\n",
    "\n",
    "fig.suptitle(\"Stacking Classifier Model on Train\")\n",
    "\n",
    "plot_confusion_matrix(stacking_model, X_train_tv, y_train_tv, ax=ax)"
   ]
  },
  {
   "cell_type": "code",
   "execution_count": 172,
   "metadata": {},
   "outputs": [
    {
     "data": {
      "text/plain": [
       "<sklearn.metrics._plot.confusion_matrix.ConfusionMatrixDisplay at 0x29493406640>"
      ]
     },
     "execution_count": 172,
     "metadata": {},
     "output_type": "execute_result"
    },
    {
     "data": {
      "image/png": "[encoded data removed]",
      "text/plain": [
       "<Figure size 432x288 with 2 Axes>"
      ]
     },
     "metadata": {
      "needs_background": "light"
     },
     "output_type": "display_data"
    }
   ],
   "source": [
    "fig, ax = plt.subplots()\n",
    "\n",
    "fig.suptitle(\"Stacking Classifier Model on Test\")\n",
    "\n",
    "plot_confusion_matrix(stacking_model, X_test_tv, y_test_tv, ax=ax)"
   ]
  },
  {
   "cell_type": "code",
   "execution_count": 169,
   "metadata": {},
   "outputs": [
    {
     "name": "stdout",
     "output_type": "stream",
     "text": [
      "0.7221177139299779\n"
     ]
    }
   ],
   "source": [
    "#Looking at Training Score\n",
    "print(stacking_model.score(X_train_tv, y_train_tv))"
   ]
  },
  {
   "cell_type": "code",
   "execution_count": 173,
   "metadata": {},
   "outputs": [
    {
     "name": "stdout",
     "output_type": "stream",
     "text": [
      "Accuracy: 0.696746603150544\n",
      "Confusion Matrix:\n",
      "[[6205 2978]\n",
      " [2624 6666]]\n",
      "Classification Report:\n",
      "              precision    recall  f1-score   support\n",
      "\n",
      "           0       0.70      0.68      0.69      9183\n",
      "           1       0.69      0.72      0.70      9290\n",
      "\n",
      "    accuracy                           0.70     18473\n",
      "   macro avg       0.70      0.70      0.70     18473\n",
      "weighted avg       0.70      0.70      0.70     18473\n",
      "\n"
     ]
    }
   ],
   "source": [
    "#Model Evaluation\n",
    "accuracy2 = accuracy_score(y_test_tv, y_pred3)\n",
    "conf_matrix2 = confusion_matrix(y_test_tv, y_pred3)\n",
    "classification_rep2 = classification_report(y_test_tv, y_pred3)\n",
    "\n",
    "print(f\"Accuracy: {accuracy2}\")\n",
    "print(f\"Confusion Matrix:\\n{conf_matrix2}\")\n",
    "print(f\"Classification Report:\\n{classification_rep2}\")"
   ]
  },
  {
   "cell_type": "markdown",
   "metadata": {},
   "source": [
    "###### Looking at Feature Importances"
   ]
  },
  {
   "cell_type": "code",
   "execution_count": 190,
   "metadata": {},
   "outputs": [],
   "source": [
    "#Extracting Feature Importances from the Best XGB and RF Models\n",
    "feature_importances_rf_tv = base_model_rf.feature_importances_\n",
    "feature_importances_xgb_tv = base_model_xgb.feature_importances_"
   ]
  },
  {
   "cell_type": "code",
   "execution_count": 191,
   "metadata": {},
   "outputs": [],
   "source": [
    "#Extracting and Sorting the Feature Importances\n",
    "feature_names = X_train_tv.columns\n",
    "\n",
    "feature_importance_dict_rf = dict(zip(feature_names, feature_importances_rf_tv))\n",
    "feature_importance_dict_xgb = dict(zip(feature_names, feature_importances_xgb_tv))\n",
    "sorted_feature_importance_rf = dict(sorted(feature_importance_dict_rf.items(), key=lambda item: item[1], reverse=True)[:10])\n",
    "sorted_feature_importance_xgb = dict(sorted(feature_importance_dict_xgb.items(), key=lambda item: item[1], reverse=True)[:10])\n"
   ]
  },
  {
   "cell_type": "markdown",
   "metadata": {},
   "source": [
    "###### Top 10 Feature Importances: "
   ]
  },
  {
   "cell_type": "markdown",
   "metadata": {},
   "source": [
    "###### XGB"
   ]
  },
  {
   "cell_type": "code",
   "execution_count": 193,
   "metadata": {},
   "outputs": [
    {
     "data": {
      "text/plain": [
       "{'ROAD_DEFECT_RUT, HOLES': 0.13282505,\n",
       " 'ROADWAY_SURFACE_COND_ICE': 0.05840006,\n",
       " 'MANEUVER_PASSING/OVERTAKING': 0.03762629,\n",
       " 'MANEUVER_SKIDDING/CONTROL LOSS': 0.0326024,\n",
       " 'MANEUVER_CHANGING LANES': 0.030215977,\n",
       " 'WEATHER_CONDITION_CLEAR': 0.027446792,\n",
       " 'MANEUVER_OTHER': 0.02605336,\n",
       " 'MANEUVER_U-TURN': 0.023584208,\n",
       " 'ROAD_DEFECT_OTHER': 0.02240528,\n",
       " 'VEHICLE_TYPE_UNKNOWN/NA': 0.021395873}"
      ]
     },
     "execution_count": 193,
     "metadata": {},
     "output_type": "execute_result"
    }
   ],
   "source": [
    "sorted_feature_importance_xgb"
   ]
  },
  {
   "cell_type": "markdown",
   "metadata": {},
   "source": [
    "###### RF"
   ]
  },
  {
   "cell_type": "code",
   "execution_count": 194,
   "metadata": {},
   "outputs": [
    {
     "data": {
      "text/plain": [
       "{'ROAD_DEFECT_RUT, HOLES': 0.05645262324059971,\n",
       " 'CRASH_HOUR': 0.05555619387826054,\n",
       " 'WEATHER_CONDITION_CLEAR': 0.054109648605325376,\n",
       " 'MANEUVER_PASSING/OVERTAKING': 0.05321098109402222,\n",
       " 'WEATHER_CONDITION_SNOW': 0.04986857608792069,\n",
       " 'ROADWAY_SURFACE_COND_SNOW OR SLUSH': 0.04866723068492083,\n",
       " 'ROADWAY_SURFACE_COND_ICE': 0.03832337226654902,\n",
       " 'VEHICLE_TYPE_UNKNOWN/NA': 0.03285615569803651,\n",
       " 'MANEUVER_STRAIGHT AHEAD': 0.0312895027236073,\n",
       " 'MANEUVER_SKIDDING/CONTROL LOSS': 0.031096388965273402}"
      ]
     },
     "execution_count": 194,
     "metadata": {},
     "output_type": "execute_result"
    }
   ],
   "source": [
    "sorted_feature_importance_rf"
   ]
  },
  {
   "cell_type": "markdown",
   "metadata": {},
   "source": [
    "###### Key Takeaways:\n",
    "- Road Defects, including Ruts and Potholes, is the top feature for both models indicating that it is an important predictor of traffic-violation related crashes. Road defects may increase the risks of violating traffic laws (speeding etc.)\n",
    "- Another common top predictor is Icy/or Snow/Slushy Surface; This again may penalize speeding/otherwise violating traffic laws driver's in that mistakes are amplified\n",
    "- Another common predictor is executing an overtaking maneuver "
   ]
  },
  {
   "cell_type": "markdown",
   "metadata": {},
   "source": [
    "###### Recommendations \n",
    "- Fix and maintain roads to eliminate dangerous defects \n",
    "- increase/enhance enforcement of penalties on days with snowy/icy road conditions and have law enforcement focus on illegal/violating overtaking maneuevers to disincentivize these and hopefully minimize crashes associated with traffic violations"
   ]
  },
  {
   "cell_type": "markdown",
   "metadata": {},
   "source": [
    "## Model 4: Random Forest (Enviromental Factors)"
   ]
  },
  {
   "cell_type": "markdown",
   "metadata": {},
   "source": [
    "###### Intializing the CVSearch and Train Test Splitting the Data"
   ]
  },
  {
   "cell_type": "code",
   "execution_count": 198,
   "metadata": {},
   "outputs": [],
   "source": [
    "param_grid = {\n",
    "    'classifier__n_estimators': [100, 200],\n",
    "    'classifier__max_depth': [10, 15],\n",
    "    'classifier__min_samples_split': [2, 5],\n",
    "    'classifier__max_features': ['auto', 'sqrt'],\n",
    "    'classifier__criterion': ['gini', 'entropy']\n",
    "}\n",
    "\n",
    "\n",
    "pipeline_model4 = Pipeline([\n",
    "    ('classifier', RandomForestClassifier(n_jobs=20))\n",
    "])\n",
    "\n",
    "grid_search_model4 = GridSearchCV(estimator = pipeline_model2, param_grid = param_grid, cv=3, verbose=3, n_jobs=20)\n",
    "\n",
    "X_ef = preprocessed_df.drop(columns=[\"prim_cause_category\", \"Traffic Violations_target\", \"Distracted Driving_target\", \"Vehicle-Related Issues_target\", \"Environmental Factors_target\"])\n",
    "y_ef = preprocessed_df[\"Environmental Factors_target\"]\n",
    "\n",
    "\n",
    "X_train_ef, X_test_ef, y_train_ef, y_test_ef = train_test_split(X_ef, y_ef, test_size=0.2, random_state=42)"
   ]
  },
  {
   "cell_type": "markdown",
   "metadata": {},
   "source": [
    "###### Fitting the Models"
   ]
  },
  {
   "cell_type": "code",
   "execution_count": 199,
   "metadata": {},
   "outputs": [
    {
     "name": "stdout",
     "output_type": "stream",
     "text": [
      "Fitting 3 folds for each of 32 candidates, totalling 96 fits\n"
     ]
    },
    {
     "name": "stderr",
     "output_type": "stream",
     "text": [
      "[Parallel(n_jobs=20)]: Using backend LokyBackend with 20 concurrent workers.\n",
      "[Parallel(n_jobs=20)]: Done  90 out of  96 | elapsed:  4.1min remaining:   16.2s\n",
      "[Parallel(n_jobs=20)]: Done  96 out of  96 | elapsed:  4.1min finished\n"
     ]
    },
    {
     "data": {
      "text/plain": [
       "GridSearchCV(cv=3,\n",
       "             estimator=Pipeline(steps=[('ss', StandardScaler()),\n",
       "                                       ('classifier',\n",
       "                                        RandomForestClassifier(n_jobs=20))]),\n",
       "             n_jobs=20,\n",
       "             param_grid={'classifier__criterion': ['gini', 'entropy'],\n",
       "                         'classifier__max_depth': [10, 15],\n",
       "                         'classifier__max_features': ['auto', 'sqrt'],\n",
       "                         'classifier__min_samples_split': [2, 5],\n",
       "                         'classifier__n_estimators': [100, 200]},\n",
       "             verbose=3)"
      ]
     },
     "execution_count": 199,
     "metadata": {},
     "output_type": "execute_result"
    }
   ],
   "source": [
    "grid_search_model4.fit(X_train_ef, y_train_ef)"
   ]
  },
  {
   "cell_type": "markdown",
   "metadata": {},
   "source": [
    "###### Extracting Best Model"
   ]
  },
  {
   "cell_type": "code",
   "execution_count": 272,
   "metadata": {},
   "outputs": [
    {
     "name": "stdout",
     "output_type": "stream",
     "text": [
      "{'classifier__criterion': 'gini', 'classifier__max_depth': 15, 'classifier__max_features': 'sqrt', 'classifier__min_samples_split': 5, 'classifier__n_estimators': 200}\n"
     ]
    },
    {
     "data": {
      "text/plain": [
       "0.8400617144785825"
      ]
     },
     "execution_count": 272,
     "metadata": {},
     "output_type": "execute_result"
    }
   ],
   "source": [
    "best_params = grid_search_model4.best_params_\n",
    "print(best_params)\n",
    "best_model_xgb_ef = grid_search_model4.best_estimator_\n",
    "best_score = grid_search_model4.best_score_\n",
    "best_score"
   ]
  },
  {
   "cell_type": "markdown",
   "metadata": {},
   "source": [
    "## Model #5 XGBoost Environmental Factors\n"
   ]
  },
  {
   "cell_type": "markdown",
   "metadata": {},
   "source": [
    "###### Setting up CV Search"
   ]
  },
  {
   "cell_type": "code",
   "execution_count": 205,
   "metadata": {},
   "outputs": [],
   "source": [
    "param_grid = {\n",
    "    'classifier__n_estimators': [200, 300], \n",
    "    'classifier__max_depth': [10, 20],\n",
    "    'classifier__learning_rate': [0.1, 0.01],\n",
    "    'classifier__subsample': [0.8, 0.9],\n",
    "}\n",
    "xgb_classifier = xgb.XGBClassifier()\n",
    "\n",
    "\n",
    "pipeline_model5 = Pipeline([\n",
    "    ('ss', StandardScaler()),\n",
    "    ('classifier', xgb_classifier)\n",
    "])\n",
    "grid_search_model5 = GridSearchCV(estimator = pipeline_model5, param_grid = param_grid, cv=3, verbose=3, n_jobs=20)\n",
    "\n",
    "\n"
   ]
  },
  {
   "cell_type": "markdown",
   "metadata": {},
   "source": [
    "###### Fitting the Models"
   ]
  },
  {
   "cell_type": "code",
   "execution_count": 206,
   "metadata": {},
   "outputs": [
    {
     "name": "stdout",
     "output_type": "stream",
     "text": [
      "Fitting 3 folds for each of 16 candidates, totalling 48 fits\n"
     ]
    },
    {
     "name": "stderr",
     "output_type": "stream",
     "text": [
      "[Parallel(n_jobs=20)]: Using backend LokyBackend with 20 concurrent workers.\n",
      "[Parallel(n_jobs=20)]: Done  26 out of  48 | elapsed: 10.9min remaining:  9.2min\n",
      "[Parallel(n_jobs=20)]: Done  43 out of  48 | elapsed: 18.0min remaining:  2.1min\n",
      "[Parallel(n_jobs=20)]: Done  48 out of  48 | elapsed: 18.9min finished\n"
     ]
    },
    {
     "data": {
      "text/plain": [
       "GridSearchCV(cv=3,\n",
       "             estimator=Pipeline(steps=[('ss', StandardScaler()),\n",
       "                                       ('classifier',\n",
       "                                        XGBClassifier(base_score=None,\n",
       "                                                      booster=None,\n",
       "                                                      colsample_bylevel=None,\n",
       "                                                      colsample_bynode=None,\n",
       "                                                      colsample_bytree=None,\n",
       "                                                      gamma=None, gpu_id=None,\n",
       "                                                      importance_type='gain',\n",
       "                                                      interaction_constraints=None,\n",
       "                                                      learning_rate=None,\n",
       "                                                      max_delta_step=None,\n",
       "                                                      max_depth=None,\n",
       "                                                      min_child_weight=None,\n",
       "                                                      missing...\n",
       "                                                      n_jobs=None,\n",
       "                                                      num_parallel_tree=None,\n",
       "                                                      random_state=None,\n",
       "                                                      reg_alpha=None,\n",
       "                                                      reg_lambda=None,\n",
       "                                                      scale_pos_weight=None,\n",
       "                                                      subsample=None,\n",
       "                                                      tree_method=None,\n",
       "                                                      validate_parameters=None,\n",
       "                                                      verbosity=None))]),\n",
       "             n_jobs=20,\n",
       "             param_grid={'classifier__learning_rate': [0.1, 0.01],\n",
       "                         'classifier__max_depth': [10, 20],\n",
       "                         'classifier__n_estimators': [200, 300],\n",
       "                         'classifier__subsample': [0.8, 0.9]},\n",
       "             verbose=3)"
      ]
     },
     "execution_count": 206,
     "metadata": {},
     "output_type": "execute_result"
    }
   ],
   "source": [
    "grid_search_model5.fit(X_train_ef, y_train_ef)"
   ]
  },
  {
   "cell_type": "markdown",
   "metadata": {},
   "source": [
    "###### Extracting Best Model from the CV Search"
   ]
  },
  {
   "cell_type": "code",
   "execution_count": 273,
   "metadata": {},
   "outputs": [
    {
     "name": "stdout",
     "output_type": "stream",
     "text": [
      "{'classifier__learning_rate': 0.01, 'classifier__max_depth': 10, 'classifier__n_estimators': 300, 'classifier__subsample': 0.9}\n"
     ]
    },
    {
     "data": {
      "text/plain": [
       "0.8404812378109202"
      ]
     },
     "execution_count": 273,
     "metadata": {},
     "output_type": "execute_result"
    }
   ],
   "source": [
    "best_params = grid_search_model5.best_params_\n",
    "print(best_params)\n",
    "best_model_xgb_ef = grid_search_model5.best_estimator_\n",
    "best_score = grid_search_model5.best_score_\n",
    "best_score"
   ]
  },
  {
   "cell_type": "markdown",
   "metadata": {},
   "source": [
    "## Model 6: Stacking Classifier (Environmental Factors )"
   ]
  },
  {
   "cell_type": "markdown",
   "metadata": {},
   "source": [
    "###### Extracting Best Model from Best Extracted Pipeline"
   ]
  },
  {
   "cell_type": "code",
   "execution_count": 274,
   "metadata": {},
   "outputs": [],
   "source": [
    "base_model_rf_ef = best_model_rf_ef.named_steps['classifier']\n",
    "base_model_xgb_ef = best_model_xgb_ef.named_steps['classifier']  "
   ]
  },
  {
   "cell_type": "markdown",
   "metadata": {},
   "source": [
    "###### Setting up Final Estimator for Stacking Classifier"
   ]
  },
  {
   "cell_type": "code",
   "execution_count": 218,
   "metadata": {},
   "outputs": [],
   "source": [
    "final_model_2 = LogisticRegression()"
   ]
  },
  {
   "cell_type": "markdown",
   "metadata": {},
   "source": [
    "###### Intializing Stacking Classifier"
   ]
  },
  {
   "cell_type": "code",
   "execution_count": 241,
   "metadata": {},
   "outputs": [
    {
     "data": {
      "text/plain": [
       "StackingClassifier(estimators=[('rf',\n",
       "                                RandomForestClassifier(max_depth=15,\n",
       "                                                       max_features='sqrt',\n",
       "                                                       min_samples_split=5,\n",
       "                                                       n_estimators=200,\n",
       "                                                       n_jobs=20)),\n",
       "                               ('xgb',\n",
       "                                XGBClassifier(base_score=0.5, booster='gbtree',\n",
       "                                              colsample_bylevel=1,\n",
       "                                              colsample_bynode=1,\n",
       "                                              colsample_bytree=1, gamma=0,\n",
       "                                              gpu_id=-1, importance_type='gain',\n",
       "                                              interaction_constraints='',\n",
       "                                              learning_rate=0.01,\n",
       "                                              max_delta_step=0, max_depth=10,\n",
       "                                              min_child_weight=1, missing=nan,\n",
       "                                              monotone_constraints='()',\n",
       "                                              n_estimators=300, n_jobs=0,\n",
       "                                              num_parallel_tree=1,\n",
       "                                              random_state=0, reg_alpha=0,\n",
       "                                              reg_lambda=1, scale_pos_weight=1,\n",
       "                                              subsample=0.9,\n",
       "                                              tree_method='exact',\n",
       "                                              validate_parameters=1,\n",
       "                                              verbosity=None))],\n",
       "                   final_estimator=LogisticRegression())"
      ]
     },
     "execution_count": 241,
     "metadata": {},
     "output_type": "execute_result"
    }
   ],
   "source": [
    "base_models_2 = [(\"rf\",base_model_rf_ef),(\"xgb\", base_model_xgb_ef)]\n",
    "stacking_model_2 = StackingClassifier(estimators=base_models_2, final_estimator=final_model_2)\n",
    "stacking_model_2.fit(X_train_ef, y_train_ef)"
   ]
  },
  {
   "cell_type": "markdown",
   "metadata": {},
   "source": [
    "###### Prediction on the Test"
   ]
  },
  {
   "cell_type": "code",
   "execution_count": 243,
   "metadata": {},
   "outputs": [],
   "source": [
    "y_pred4 = stacking_model_2.predict(X_test_ef)"
   ]
  },
  {
   "cell_type": "code",
   "execution_count": 244,
   "metadata": {},
   "outputs": [
    {
     "data": {
      "text/plain": [
       "<sklearn.metrics._plot.confusion_matrix.ConfusionMatrixDisplay at 0x294961f73a0>"
      ]
     },
     "execution_count": 244,
     "metadata": {},
     "output_type": "execute_result"
    },
    {
     "data": {
      "image/png": "[encoded data removed]",
      "text/plain": [
       "<Figure size 432x288 with 2 Axes>"
      ]
     },
     "metadata": {
      "needs_background": "light"
     },
     "output_type": "display_data"
    }
   ],
   "source": [
    "fig, ax = plt.subplots()\n",
    "\n",
    "fig.suptitle(\"Stacking Classifier Model on Train\")\n",
    "\n",
    "plot_confusion_matrix(stacking_model_2, X_train_ef, y_train_ef, ax=ax)"
   ]
  },
  {
   "cell_type": "code",
   "execution_count": 245,
   "metadata": {},
   "outputs": [
    {
     "data": {
      "text/plain": [
       "<sklearn.metrics._plot.confusion_matrix.ConfusionMatrixDisplay at 0x29496215df0>"
      ]
     },
     "execution_count": 245,
     "metadata": {},
     "output_type": "execute_result"
    },
    {
     "data": {
      "image/png": "[encoded data removed]",
      "text/plain": [
       "<Figure size 432x288 with 2 Axes>"
      ]
     },
     "metadata": {
      "needs_background": "light"
     },
     "output_type": "display_data"
    }
   ],
   "source": [
    "fig, ax = plt.subplots()\n",
    "\n",
    "fig.suptitle(\"Stacking Classifier Model on Train\")\n",
    "\n",
    "plot_confusion_matrix(stacking_model_2, X_test_ef, y_test_ef, ax=ax)"
   ]
  },
  {
   "cell_type": "markdown",
   "metadata": {},
   "source": [
    "###### Evaluating Results"
   ]
  },
  {
   "cell_type": "code",
   "execution_count": 246,
   "metadata": {},
   "outputs": [
    {
     "name": "stdout",
     "output_type": "stream",
     "text": [
      "Accuracy: 0.8456666486223137\n",
      "Confusion Matrix:\n",
      "[[13673   529]\n",
      " [ 2322  1949]]\n",
      "Classification Report:\n",
      "              precision    recall  f1-score   support\n",
      "\n",
      "           0       0.85      0.96      0.91     14202\n",
      "           1       0.79      0.46      0.58      4271\n",
      "\n",
      "    accuracy                           0.85     18473\n",
      "   macro avg       0.82      0.71      0.74     18473\n",
      "weighted avg       0.84      0.85      0.83     18473\n",
      "\n"
     ]
    }
   ],
   "source": [
    "accuracy3 = accuracy_score(y_test_dd, y_pred4)\n",
    "conf_matrix3 = confusion_matrix(y_test_dd, y_pred4)\n",
    "classification_rep3 = classification_report(y_test_dd, y_pred4)\n",
    "\n",
    "\n",
    "print(f\"Accuracy: {accuracy4}\")\n",
    "print(f\"Confusion Matrix:\\n{conf_matrix4}\")\n",
    "print(f\"Classification Report:\\n{classification_rep4}\")"
   ]
  },
  {
   "cell_type": "markdown",
   "metadata": {},
   "source": [
    "- This Model, Overall, is Quite Good. It does a good job with precision and is similarly adept at correctly classifying the minority and majority classes\n",
    "- The only thing to be desired is the recall for the minority class but overall it's a decent result"
   ]
  },
  {
   "cell_type": "markdown",
   "metadata": {},
   "source": [
    "###### Extracting Feature Importance"
   ]
  },
  {
   "cell_type": "code",
   "execution_count": 275,
   "metadata": {},
   "outputs": [],
   "source": [
    "feature_importances_rf_ef = base_model_rf_ef.feature_importances_\n",
    "feature_importances_xgb_ef = base_model_xgb_ef.feature_importances_"
   ]
  },
  {
   "cell_type": "markdown",
   "metadata": {},
   "source": [
    "###### Sorting Feature Importances and Ranking into top 10"
   ]
  },
  {
   "cell_type": "code",
   "execution_count": 276,
   "metadata": {},
   "outputs": [],
   "source": [
    "feature_names = X_train_ef.columns\n",
    "\n",
    "feature_importance_dict_rf_ef = dict(zip(feature_names, feature_importances_rf_ef))\n",
    "feature_importance_dict_xgb_ef = dict(zip(feature_names, feature_importances_xgb_ef))\n",
    "sorted_feature_importance_rf_ef = dict(sorted(feature_importance_dict_rf_ef.items(), key=lambda item: item[1], reverse=True)[:10])\n",
    "sorted_feature_importance_xgb_ef = dict(sorted(feature_importance_dict_xgb_ef.items(), key=lambda item: item[1], reverse=True)[:10])\n"
   ]
  },
  {
   "cell_type": "markdown",
   "metadata": {},
   "source": [
    "###### Random Forest Feature Importance"
   ]
  },
  {
   "cell_type": "code",
   "execution_count": 277,
   "metadata": {},
   "outputs": [
    {
     "data": {
      "text/plain": [
       "{'WEATHER_CONDITION_CLEAR': 0.136448742551223,\n",
       " 'WEATHER_CONDITION_SNOW': 0.12638171982848465,\n",
       " 'ROADWAY_SURFACE_COND_SNOW OR SLUSH': 0.1073100102163434,\n",
       " 'ROAD_DEFECT_RUT, HOLES': 0.10538344599489798,\n",
       " 'ROADWAY_SURFACE_COND_ICE': 0.07478381855189199,\n",
       " 'WEATHER_CONDITION_RAIN': 0.04295527146602885,\n",
       " 'ROADWAY_SURFACE_COND_WET': 0.042676797262312834,\n",
       " 'CRASH_MONTH': 0.031638746219184076,\n",
       " 'ROAD_DEFECT_NO DEFECTS': 0.029894871234032946,\n",
       " 'ROAD_DEFECT_OTHER': 0.02513702881114677}"
      ]
     },
     "execution_count": 277,
     "metadata": {},
     "output_type": "execute_result"
    }
   ],
   "source": [
    "sorted_feature_importance_rf_ef"
   ]
  },
  {
   "cell_type": "markdown",
   "metadata": {},
   "source": [
    "###### XGBoost Feature Importance"
   ]
  },
  {
   "cell_type": "code",
   "execution_count": 278,
   "metadata": {},
   "outputs": [
    {
     "data": {
      "text/plain": [
       "{'WEATHER_CONDITION_CLEAR': 0.4920067,\n",
       " 'WEATHER_CONDITION_SNOW': 0.102035984,\n",
       " 'ROAD_DEFECT_RUT, HOLES': 0.08848574,\n",
       " 'ROADWAY_SURFACE_COND_ICE': 0.03640183,\n",
       " 'ROADWAY_SURFACE_COND_UNKNOWN': 0.028032944,\n",
       " 'ROAD_DEFECT_OTHER': 0.021701712,\n",
       " 'WEATHER_CONDITION_CLOUDY/OVERCAST': 0.013265923,\n",
       " 'ROADWAY_SURFACE_COND_SNOW OR SLUSH': 0.013091118,\n",
       " 'ROADWAY_SURFACE_COND_WET': 0.008959251,\n",
       " 'ROAD_DEFECT_UNKNOWN': 0.0074572377}"
      ]
     },
     "execution_count": 278,
     "metadata": {},
     "output_type": "execute_result"
    }
   ],
   "source": [
    "sorted_feature_importance_xgb_ef"
   ]
  },
  {
   "cell_type": "markdown",
   "metadata": {},
   "source": [
    "###### Conclusion:"
   ]
  },
  {
   "cell_type": "markdown",
   "metadata": {},
   "source": [
    "- Weather Condition Clear is the top predictor of this crash, which is perplexing given this is the environmental factors crash cause\n",
    "- Environmental Factors include the following more granular crash types:\n",
    "    - Weather \n",
    "    - Vision Obscured \n",
    "    - Road Engineering/Surface/Marking Defects \n",
    "    - Road Construction \n",
    "    - Evasive Action Due to Animal \n",
    "    - Object\n",
    "    - Non-Motorist \n",
    "    - Animal\n",
    "- Unsuprisingly, Road Defects and Weather related factors comprise the top 10 of both feature importance arrays\n",
    "- Weather can't be controlled so likely fixing road defects is the only actionable takeaway from this category"
   ]
  },
  {
   "cell_type": "markdown",
   "metadata": {},
   "source": [
    "## Model 7: XGB (Distracted Driving)"
   ]
  },
  {
   "cell_type": "markdown",
   "metadata": {},
   "source": [
    "###### Splitting the Train Test Data for Distracted Driving"
   ]
  },
  {
   "cell_type": "code",
   "execution_count": 279,
   "metadata": {},
   "outputs": [],
   "source": [
    "X_dd = preprocessed_df.drop(columns=[\"prim_cause_category\", \"Traffic Violations_target\", \"Distracted Driving_target\", \"Vehicle-Related Issues_target\", \"Environmental Factors_target\"])\n",
    "y_dd = preprocessed_df[\"Distracted Driving_target\"]\n",
    "\n",
    "\n",
    "X_train_dd, X_test_dd, y_train_dd, y_test_dd = train_test_split(X_dd, y_dd, test_size=0.2, random_state=42)"
   ]
  },
  {
   "cell_type": "markdown",
   "metadata": {},
   "source": [
    "###### Intilizing CVSearch"
   ]
  },
  {
   "cell_type": "code",
   "execution_count": 280,
   "metadata": {},
   "outputs": [],
   "source": [
    "param_grid = {\n",
    "    'classifier__n_estimators': [200, 300], \n",
    "    'classifier__max_depth': [10, 20],\n",
    "    'classifier__learning_rate': [0.1, 0.01],\n",
    "    'classifier__subsample': [0.8, 0.9],\n",
    "}\n",
    "xgb_classifier = xgb.XGBClassifier()\n",
    "\n",
    "\n",
    "pipeline_model7 = Pipeline([\n",
    "    ('ss', StandardScaler()),\n",
    "    ('classifier', xgb_classifier)\n",
    "])\n",
    "grid_search_model7 = GridSearchCV(estimator = pipeline_model7, param_grid = param_grid, cv=3, verbose=3, n_jobs=20)\n",
    "\n",
    "\n"
   ]
  },
  {
   "cell_type": "markdown",
   "metadata": {},
   "source": [
    "###### Fitting the Models"
   ]
  },
  {
   "cell_type": "code",
   "execution_count": 281,
   "metadata": {},
   "outputs": [
    {
     "name": "stdout",
     "output_type": "stream",
     "text": [
      "Fitting 3 folds for each of 16 candidates, totalling 48 fits\n"
     ]
    },
    {
     "name": "stderr",
     "output_type": "stream",
     "text": [
      "[Parallel(n_jobs=20)]: Using backend LokyBackend with 20 concurrent workers.\n",
      "[Parallel(n_jobs=20)]: Done  26 out of  48 | elapsed: 16.9min remaining: 14.3min\n",
      "[Parallel(n_jobs=20)]: Done  43 out of  48 | elapsed: 28.3min remaining:  3.3min\n",
      "[Parallel(n_jobs=20)]: Done  48 out of  48 | elapsed: 30.4min finished\n"
     ]
    },
    {
     "data": {
      "text/plain": [
       "GridSearchCV(cv=3,\n",
       "             estimator=Pipeline(steps=[('ss', StandardScaler()),\n",
       "                                       ('classifier',\n",
       "                                        XGBClassifier(base_score=None,\n",
       "                                                      booster=None,\n",
       "                                                      colsample_bylevel=None,\n",
       "                                                      colsample_bynode=None,\n",
       "                                                      colsample_bytree=None,\n",
       "                                                      gamma=None, gpu_id=None,\n",
       "                                                      importance_type='gain',\n",
       "                                                      interaction_constraints=None,\n",
       "                                                      learning_rate=None,\n",
       "                                                      max_delta_step=None,\n",
       "                                                      max_depth=None,\n",
       "                                                      min_child_weight=None,\n",
       "                                                      missing...\n",
       "                                                      n_jobs=None,\n",
       "                                                      num_parallel_tree=None,\n",
       "                                                      random_state=None,\n",
       "                                                      reg_alpha=None,\n",
       "                                                      reg_lambda=None,\n",
       "                                                      scale_pos_weight=None,\n",
       "                                                      subsample=None,\n",
       "                                                      tree_method=None,\n",
       "                                                      validate_parameters=None,\n",
       "                                                      verbosity=None))]),\n",
       "             n_jobs=20,\n",
       "             param_grid={'classifier__learning_rate': [0.1, 0.01],\n",
       "                         'classifier__max_depth': [10, 20],\n",
       "                         'classifier__n_estimators': [200, 300],\n",
       "                         'classifier__subsample': [0.8, 0.9]},\n",
       "             verbose=3)"
      ]
     },
     "execution_count": 281,
     "metadata": {},
     "output_type": "execute_result"
    }
   ],
   "source": [
    "grid_search_model7.fit(X_train_dd, y_train_dd)"
   ]
  },
  {
   "cell_type": "markdown",
   "metadata": {},
   "source": [
    "###### Extracting Best Model"
   ]
  },
  {
   "cell_type": "code",
   "execution_count": 282,
   "metadata": {},
   "outputs": [
    {
     "name": "stdout",
     "output_type": "stream",
     "text": [
      "{'classifier__learning_rate': 0.01, 'classifier__max_depth': 10, 'classifier__n_estimators': 300, 'classifier__subsample': 0.8}\n"
     ]
    },
    {
     "data": {
      "text/plain": [
       "0.8409955218357096"
      ]
     },
     "execution_count": 282,
     "metadata": {},
     "output_type": "execute_result"
    }
   ],
   "source": [
    "best_params = grid_search_model7.best_params_\n",
    "print(best_params)\n",
    "best_model_xgb_dd = grid_search_model7.best_estimator_\n",
    "best_score = grid_search_model7.best_score_\n",
    "best_score"
   ]
  },
  {
   "cell_type": "markdown",
   "metadata": {},
   "source": [
    "###### Model #8 Random Forest - Distracted Driving"
   ]
  },
  {
   "cell_type": "markdown",
   "metadata": {},
   "source": [
    "###### Intializing CV Search"
   ]
  },
  {
   "cell_type": "code",
   "execution_count": 283,
   "metadata": {},
   "outputs": [],
   "source": [
    "param_grid = {\n",
    "    'classifier__n_estimators': [100, 200],\n",
    "    'classifier__max_depth': [10, 15],\n",
    "    'classifier__min_samples_split': [2, 5],\n",
    "    'classifier__max_features': ['auto', 'sqrt'],\n",
    "    'classifier__criterion': ['gini', 'entropy']\n",
    "}\n",
    "\n",
    "\n",
    "pipeline_model8 = Pipeline([\n",
    "    ('classifier', RandomForestClassifier(n_jobs=20))\n",
    "])\n",
    "\n",
    "grid_search_model8 = GridSearchCV(estimator = pipeline_model8, param_grid = param_grid, cv=3, verbose=3, n_jobs=20)\n"
   ]
  },
  {
   "cell_type": "markdown",
   "metadata": {},
   "source": [
    "###### Fitting the Models "
   ]
  },
  {
   "cell_type": "code",
   "execution_count": 284,
   "metadata": {},
   "outputs": [
    {
     "name": "stdout",
     "output_type": "stream",
     "text": [
      "Fitting 3 folds for each of 32 candidates, totalling 96 fits\n"
     ]
    },
    {
     "name": "stderr",
     "output_type": "stream",
     "text": [
      "[Parallel(n_jobs=20)]: Using backend LokyBackend with 20 concurrent workers.\n",
      "[Parallel(n_jobs=20)]: Done  90 out of  96 | elapsed:  2.9min remaining:   11.5s\n",
      "[Parallel(n_jobs=20)]: Done  96 out of  96 | elapsed:  2.9min finished\n"
     ]
    },
    {
     "data": {
      "text/plain": [
       "GridSearchCV(cv=3,\n",
       "             estimator=Pipeline(steps=[('classifier',\n",
       "                                        RandomForestClassifier(n_jobs=20))]),\n",
       "             n_jobs=20,\n",
       "             param_grid={'classifier__criterion': ['gini', 'entropy'],\n",
       "                         'classifier__max_depth': [10, 15],\n",
       "                         'classifier__max_features': ['auto', 'sqrt'],\n",
       "                         'classifier__min_samples_split': [2, 5],\n",
       "                         'classifier__n_estimators': [100, 200]},\n",
       "             verbose=3)"
      ]
     },
     "execution_count": 284,
     "metadata": {},
     "output_type": "execute_result"
    }
   ],
   "source": [
    "grid_search_model8.fit(X_train_ef, y_train_ef)"
   ]
  },
  {
   "cell_type": "markdown",
   "metadata": {},
   "source": [
    "###### Extracting Best Model"
   ]
  },
  {
   "cell_type": "code",
   "execution_count": 285,
   "metadata": {},
   "outputs": [
    {
     "name": "stdout",
     "output_type": "stream",
     "text": [
      "{'classifier__criterion': 'entropy', 'classifier__max_depth': 15, 'classifier__max_features': 'auto', 'classifier__min_samples_split': 5, 'classifier__n_estimators': 100}\n"
     ]
    },
    {
     "data": {
      "text/plain": [
       "0.8401293732932101"
      ]
     },
     "execution_count": 285,
     "metadata": {},
     "output_type": "execute_result"
    }
   ],
   "source": [
    "best_params = grid_search_model8.best_params_\n",
    "print(best_params)\n",
    "best_model_rf_dd = grid_search_model8.best_estimator_\n",
    "best_score = grid_search_model8.best_score_\n",
    "best_score"
   ]
  },
  {
   "cell_type": "markdown",
   "metadata": {},
   "source": [
    "###### Extracting Classifier's from Best Pipeline Models"
   ]
  },
  {
   "cell_type": "code",
   "execution_count": 286,
   "metadata": {},
   "outputs": [],
   "source": [
    "base_model_rf_dd = best_model_rf_dd.named_steps['classifier']\n",
    "base_model_xgb_dd = best_model_xgb_dd.named_steps['classifier']  "
   ]
  },
  {
   "cell_type": "markdown",
   "metadata": {},
   "source": [
    "###### Model #9 Stacking Classifier for Distracted Driving"
   ]
  },
  {
   "cell_type": "markdown",
   "metadata": {},
   "source": [
    "###### Intializing Final Estimator and Stacking Classifier"
   ]
  },
  {
   "cell_type": "code",
   "execution_count": 300,
   "metadata": {},
   "outputs": [
    {
     "data": {
      "text/plain": [
       "StackingClassifier(estimators=[('rf',\n",
       "                                RandomForestClassifier(max_depth=15,\n",
       "                                                       max_features='sqrt',\n",
       "                                                       min_samples_split=5,\n",
       "                                                       n_estimators=200,\n",
       "                                                       n_jobs=20)),\n",
       "                               ('xgb',\n",
       "                                XGBClassifier(base_score=0.5, booster='gbtree',\n",
       "                                              colsample_bylevel=1,\n",
       "                                              colsample_bynode=1,\n",
       "                                              colsample_bytree=1, gamma=0,\n",
       "                                              gpu_id=-1, importance_type='gain',\n",
       "                                              interaction_constraints='',\n",
       "                                              learning_rate=0.01,\n",
       "                                              max_delta_step=0, max_depth=10,\n",
       "                                              min_child_weight=1, missing=nan,\n",
       "                                              monotone_constraints='()',\n",
       "                                              n_estimators=300, n_jobs=0,\n",
       "                                              num_parallel_tree=1,\n",
       "                                              random_state=0, reg_alpha=0,\n",
       "                                              reg_lambda=1, scale_pos_weight=1,\n",
       "                                              subsample=0.9,\n",
       "                                              tree_method='exact',\n",
       "                                              validate_parameters=1,\n",
       "                                              verbosity=None))],\n",
       "                   final_estimator=LogisticRegression())"
      ]
     },
     "execution_count": 300,
     "metadata": {},
     "output_type": "execute_result"
    }
   ],
   "source": [
    "final_model_3 = LogisticRegression()\n",
    "base_models_3 = [(\"rf\",base_model_rf_ef),(\"xgb\", base_model_xgb_ef)]\n",
    "stacking_model = StackingClassifier(estimators=base_models_3, final_estimator=final_model_3)\n",
    "stacking_model.fit(X_train_dd, y_train_dd)"
   ]
  },
  {
   "cell_type": "markdown",
   "metadata": {},
   "source": [
    "###### Predicting on the Test"
   ]
  },
  {
   "cell_type": "code",
   "execution_count": 305,
   "metadata": {},
   "outputs": [],
   "source": [
    "y_pred5 = stacking_model.predict(X_test_dd)"
   ]
  },
  {
   "cell_type": "code",
   "execution_count": 306,
   "metadata": {},
   "outputs": [
    {
     "data": {
      "text/plain": [
       "<sklearn.metrics._plot.confusion_matrix.ConfusionMatrixDisplay at 0x294939807f0>"
      ]
     },
     "execution_count": 306,
     "metadata": {},
     "output_type": "execute_result"
    },
    {
     "data": {
      "image/png": "[encoded data removed]",
      "text/plain": [
       "<Figure size 432x288 with 2 Axes>"
      ]
     },
     "metadata": {
      "needs_background": "light"
     },
     "output_type": "display_data"
    }
   ],
   "source": [
    "fig, ax = plt.subplots()\n",
    "\n",
    "fig.suptitle(\"Stacking Classifier Model on Train\")\n",
    "\n",
    "plot_confusion_matrix(stacking_model, X_train_dd, y_train_dd, ax=ax)"
   ]
  },
  {
   "cell_type": "code",
   "execution_count": 307,
   "metadata": {},
   "outputs": [
    {
     "data": {
      "text/plain": [
       "<sklearn.metrics._plot.confusion_matrix.ConfusionMatrixDisplay at 0x29493972a90>"
      ]
     },
     "execution_count": 307,
     "metadata": {},
     "output_type": "execute_result"
    },
    {
     "data": {
      "image/png": "[encoded data removed]",
      "text/plain": [
       "<Figure size 432x288 with 2 Axes>"
      ]
     },
     "metadata": {
      "needs_background": "light"
     },
     "output_type": "display_data"
    }
   ],
   "source": [
    "fig, ax = plt.subplots()\n",
    "\n",
    "fig.suptitle(\"Stacking Classifier Model on Test\")\n",
    "\n",
    "plot_confusion_matrix(stacking_model, X_test_dd, y_test_dd, ax=ax)"
   ]
  },
  {
   "cell_type": "markdown",
   "metadata": {},
   "source": [
    "###### Model Evaluation"
   ]
  },
  {
   "cell_type": "code",
   "execution_count": 308,
   "metadata": {},
   "outputs": [
    {
     "name": "stdout",
     "output_type": "stream",
     "text": [
      "Accuracy: 0.8422562659015861\n",
      "Confusion Matrix:\n",
      "[[15254   309]\n",
      " [ 2605   305]]\n",
      "Classification Report:\n",
      "              precision    recall  f1-score   support\n",
      "\n",
      "           0       0.85      0.98      0.91     15563\n",
      "           1       0.50      0.10      0.17      2910\n",
      "\n",
      "    accuracy                           0.84     18473\n",
      "   macro avg       0.68      0.54      0.54     18473\n",
      "weighted avg       0.80      0.84      0.80     18473\n",
      "\n"
     ]
    }
   ],
   "source": [
    "accuracy4 = accuracy_score(y_test_dd, y_pred5)\n",
    "conf_matrix4 = confusion_matrix(y_test_dd, y_pred5)\n",
    "classification_rep4 = classification_report(y_test_dd, y_pred5)\n",
    "\n",
    "print(f\"Accuracy: {accuracy4}\")\n",
    "print(f\"Confusion Matrix:\\n{conf_matrix4}\")\n",
    "print(f\"Classification Report:\\n{classification_rep4}\")"
   ]
  },
  {
   "cell_type": "markdown",
   "metadata": {},
   "source": [
    "###### Results Evaluation "
   ]
  },
  {
   "cell_type": "markdown",
   "metadata": {},
   "source": [
    "The Model Acheived 84.2% Accuracy, which seems good, however the model is underperforming on classifying on the minority class\n",
    "    - It only acheives 50% precision on the minority class which is about as good as randomly guessing."
   ]
  },
  {
   "cell_type": "code",
   "execution_count": 291,
   "metadata": {},
   "outputs": [],
   "source": [
    "feature_importances_rf_dd = base_model_rf_dd.feature_importances_\n",
    "feature_importances_xgb_dd = base_model_xgb_dd.feature_importances_"
   ]
  },
  {
   "cell_type": "code",
   "execution_count": 292,
   "metadata": {},
   "outputs": [],
   "source": [
    "feature_names = X_train_dd.columns\n",
    "\n",
    "feature_importance_dict_rf_dd = dict(zip(feature_names, feature_importances_rf_dd))\n",
    "feature_importance_dict_xgb_dd = dict(zip(feature_names, feature_importances_xgb_dd))\n",
    "sorted_feature_importance_rf_dd = dict(sorted(feature_importance_dict_rf_dd.items(), key=lambda item: item[1], reverse=True)[:10])\n",
    "sorted_feature_importance_xgb_dd = dict(sorted(feature_importance_dict_xgb_dd.items(), key=lambda item: item[1], reverse=True)[:10])\n"
   ]
  },
  {
   "cell_type": "markdown",
   "metadata": {},
   "source": [
    "###### XGBoost Feature Importance"
   ]
  },
  {
   "cell_type": "code",
   "execution_count": 293,
   "metadata": {},
   "outputs": [
    {
     "data": {
      "text/plain": [
       "{'WEATHER_CONDITION_CLEAR': 0.08245022,\n",
       " 'ROADWAY_SURFACE_COND_SNOW OR SLUSH': 0.049165007,\n",
       " 'ROAD_DEFECT_RUT, HOLES': 0.038293786,\n",
       " 'LIGHTING_CONDITION_DARKNESS, LIGHTED ROAD': 0.02742191,\n",
       " 'ROADWAY_SURFACE_COND_ICE': 0.026420686,\n",
       " 'MANEUVER_STRAIGHT AHEAD': 0.024488121,\n",
       " 'MANEUVER_PASSING/OVERTAKING': 0.023601545,\n",
       " 'MANEUVER_SLOW/STOP IN TRAFFIC': 0.021619132,\n",
       " 'VEHICLE_TYPE_UNKNOWN/NA': 0.020935193,\n",
       " 'MANEUVER_CHANGING LANES': 0.02038911}"
      ]
     },
     "execution_count": 293,
     "metadata": {},
     "output_type": "execute_result"
    }
   ],
   "source": [
    "sorted_feature_importance_xgb_dd"
   ]
  },
  {
   "cell_type": "markdown",
   "metadata": {},
   "source": [
    "###### Random Forest Feature Importance "
   ]
  },
  {
   "cell_type": "code",
   "execution_count": 294,
   "metadata": {},
   "outputs": [
    {
     "data": {
      "text/plain": [
       "{'WEATHER_CONDITION_CLEAR': 0.15399593769831993,\n",
       " 'WEATHER_CONDITION_SNOW': 0.10793584668692917,\n",
       " 'ROAD_DEFECT_RUT, HOLES': 0.09323719809401416,\n",
       " 'ROADWAY_SURFACE_COND_SNOW OR SLUSH': 0.09048174146416985,\n",
       " 'ROADWAY_SURFACE_COND_ICE': 0.06989832895770214,\n",
       " 'ROADWAY_SURFACE_COND_WET': 0.04918333659082352,\n",
       " 'WEATHER_CONDITION_RAIN': 0.03914730614911011,\n",
       " 'ROAD_DEFECT_NO DEFECTS': 0.03193895623891997,\n",
       " 'CRASH_MONTH': 0.030939976851954668,\n",
       " 'ROAD_DEFECT_OTHER': 0.02425734237940196}"
      ]
     },
     "execution_count": 294,
     "metadata": {},
     "output_type": "execute_result"
    }
   ],
   "source": [
    "sorted_feature_importance_rf_dd"
   ]
  },
  {
   "cell_type": "markdown",
   "metadata": {},
   "source": [
    "###### Conclusions for Distracted Driving"
   ]
  },
  {
   "cell_type": "markdown",
   "metadata": {},
   "source": [
    "- Once Again Weather/Surface Conditions and Road Defects dominate the feature importance; Clear Weather shows up again; this may be due to the fact that Driver's are more comfortable taking risks in a safe-seeming environment; in other words, clear dry conditions may lull drivers into complacency\n",
    "- Road Defects and Weather Conditions/Surface Conditions once again dominate the top 10 in terms of feature importance suggesting these factors may play a role in all types of crashes and increase the risk of crash from all causes"
   ]
  },
  {
   "cell_type": "markdown",
   "metadata": {},
   "source": [
    "###### Overall Conclusion/Recommendations"
   ]
  },
  {
   "cell_type": "markdown",
   "metadata": {},
   "source": [
    "Recommendations\n",
    "- Fix road defects; Road defects were one of the largest predictors for each crash type so fixing these could ameliorate crashes related to potholes, rutts etc.\n",
    "- Adverse weather/road surface conditions also contributed to a vareity of crashes including those involving Traffic Violations and Distracted Driving, increased enforcement and penalties should be considered to attept to get drivers to behave with more caution in these dangerous situations"
   ]
  },
  {
   "cell_type": "code",
   "execution_count": null,
   "metadata": {},
   "outputs": [],
   "source": []
  }
 ],
 "metadata": {
  "kernelspec": {
   "display_name": "Python (learn-env)",
   "language": "python",
   "name": "learn-env"
  },
  "language_info": {
   "codemirror_mode": {
    "name": "ipython",
    "version": 3
   },
   "file_extension": ".py",
   "mimetype": "text/x-python",
   "name": "python",
   "nbconvert_exporter": "python",
   "pygments_lexer": "ipython3",
   "version": "3.8.5"
  }
 },
 "nbformat": 4,
 "nbformat_minor": 4
}
